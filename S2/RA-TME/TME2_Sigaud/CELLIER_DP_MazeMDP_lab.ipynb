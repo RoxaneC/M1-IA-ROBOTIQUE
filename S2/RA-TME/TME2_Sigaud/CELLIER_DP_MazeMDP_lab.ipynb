{
  "nbformat": 4,
  "nbformat_minor": 0,
  "metadata": {
    "colab": {
      "provenance": [],
      "collapsed_sections": [
        "pvLBhVirapw-"
      ]
    },
    "kernelspec": {
      "name": "python3",
      "display_name": "Python 3"
    },
    "language_info": {
      "name": "python"
    },
    "widgets": {
      "application/vnd.jupyter.widget-state+json": {
        "6e8933385abf426b9a64ffbb54a74267": {
          "model_module": "@jupyter-widgets/output",
          "model_name": "OutputModel",
          "model_module_version": "1.0.0",
          "state": {
            "_dom_classes": [],
            "_model_module": "@jupyter-widgets/output",
            "_model_module_version": "1.0.0",
            "_model_name": "OutputModel",
            "_view_count": null,
            "_view_module": "@jupyter-widgets/output",
            "_view_module_version": "1.0.0",
            "_view_name": "OutputView",
            "layout": "IPY_MODEL_ba853bbf7dea43f9ba559c51b1de954b",
            "msg_id": "",
            "outputs": [
              {
                "output_type": "display_data",
                "data": {
                  "image/png": "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\n",
                  "text/plain": "<IPython.core.display.Image object>"
                },
                "metadata": {}
              }
            ]
          }
        },
        "ba853bbf7dea43f9ba559c51b1de954b": {
          "model_module": "@jupyter-widgets/base",
          "model_name": "LayoutModel",
          "model_module_version": "1.2.0",
          "state": {
            "_model_module": "@jupyter-widgets/base",
            "_model_module_version": "1.2.0",
            "_model_name": "LayoutModel",
            "_view_count": null,
            "_view_module": "@jupyter-widgets/base",
            "_view_module_version": "1.2.0",
            "_view_name": "LayoutView",
            "align_content": null,
            "align_items": null,
            "align_self": null,
            "border": null,
            "bottom": null,
            "display": null,
            "flex": null,
            "flex_flow": null,
            "grid_area": null,
            "grid_auto_columns": null,
            "grid_auto_flow": null,
            "grid_auto_rows": null,
            "grid_column": null,
            "grid_gap": null,
            "grid_row": null,
            "grid_template_areas": null,
            "grid_template_columns": null,
            "grid_template_rows": null,
            "height": null,
            "justify_content": null,
            "justify_items": null,
            "left": null,
            "margin": null,
            "max_height": null,
            "max_width": null,
            "min_height": null,
            "min_width": null,
            "object_fit": null,
            "object_position": null,
            "order": null,
            "overflow": null,
            "overflow_x": null,
            "overflow_y": null,
            "padding": null,
            "right": null,
            "top": null,
            "visibility": null,
            "width": null
          }
        },
        "eed84564260a4153851e65cc92a101e4": {
          "model_module": "@jupyter-widgets/output",
          "model_name": "OutputModel",
          "model_module_version": "1.0.0",
          "state": {
            "_dom_classes": [],
            "_model_module": "@jupyter-widgets/output",
            "_model_module_version": "1.0.0",
            "_model_name": "OutputModel",
            "_view_count": null,
            "_view_module": "@jupyter-widgets/output",
            "_view_module_version": "1.0.0",
            "_view_name": "OutputView",
            "layout": "IPY_MODEL_1e957f1151654b03be0ffa245baf2788",
            "msg_id": "",
            "outputs": [
              {
                "output_type": "display_data",
                "data": {
                  "image/png": "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\n",
                  "text/plain": "<IPython.core.display.Image object>"
                },
                "metadata": {}
              }
            ]
          }
        },
        "1e957f1151654b03be0ffa245baf2788": {
          "model_module": "@jupyter-widgets/base",
          "model_name": "LayoutModel",
          "model_module_version": "1.2.0",
          "state": {
            "_model_module": "@jupyter-widgets/base",
            "_model_module_version": "1.2.0",
            "_model_name": "LayoutModel",
            "_view_count": null,
            "_view_module": "@jupyter-widgets/base",
            "_view_module_version": "1.2.0",
            "_view_name": "LayoutView",
            "align_content": null,
            "align_items": null,
            "align_self": null,
            "border": null,
            "bottom": null,
            "display": null,
            "flex": null,
            "flex_flow": null,
            "grid_area": null,
            "grid_auto_columns": null,
            "grid_auto_flow": null,
            "grid_auto_rows": null,
            "grid_column": null,
            "grid_gap": null,
            "grid_row": null,
            "grid_template_areas": null,
            "grid_template_columns": null,
            "grid_template_rows": null,
            "height": null,
            "justify_content": null,
            "justify_items": null,
            "left": null,
            "margin": null,
            "max_height": null,
            "max_width": null,
            "min_height": null,
            "min_width": null,
            "object_fit": null,
            "object_position": null,
            "order": null,
            "overflow": null,
            "overflow_x": null,
            "overflow_y": null,
            "padding": null,
            "right": null,
            "top": null,
            "visibility": null,
            "width": null
          }
        },
        "1d47a8ef3d1441ad90338adf6d53e436": {
          "model_module": "@jupyter-widgets/output",
          "model_name": "OutputModel",
          "model_module_version": "1.0.0",
          "state": {
            "_dom_classes": [],
            "_model_module": "@jupyter-widgets/output",
            "_model_module_version": "1.0.0",
            "_model_name": "OutputModel",
            "_view_count": null,
            "_view_module": "@jupyter-widgets/output",
            "_view_module_version": "1.0.0",
            "_view_name": "OutputView",
            "layout": "IPY_MODEL_3a89f5cf174e4f59bf20eb713966b1c1",
            "msg_id": "",
            "outputs": [
              {
                "output_type": "display_data",
                "data": {
                  "image/png": "iVBORw0KGgoAAAANSUhEUgAAAWgAAAFoCAYAAAB65WHVAABv2UlEQVR4nO3deZwU1bn4/8+p6r1n32eYYRZ2kEUEARdcCCoGUROJOyY30au5JubeK8nX3FzjNavRJD+SeFViojHmGtHEfSVRQ1xQ3Nj3GYZZYPa996rz+6ObZnoAYdbuac779eLldHV111NW99OnTp16jpBSoiiKoiQeLd4BKIqiKEenErSiKEqCUglaURQlQakErSiKkqBUglYURUlQKkEriqIkKJWgFUVREpRK0IqiKAlKJWhFUZQEpRK0oihKgrLEO4BDdF2XpmnGO4wRJ4TgZLvd/mTcZ1D7fRKSUspBNYITJkGbpsn69evjHcaImz9/PuvWrYt3GCNq4cKFrF27Nt5hjLjFixefdMcawsf7JP1ui8G+h+riUBRFSVAqQSuKoiQolaAVRVESlErQiqIoCUolaEVRlASlErSiKEqCUglaURQlQfU7QQshfi+EaBRCbDnG80II8SshxB4hxCYhxOzBh6koinLyGUgL+lHgos94fgkwIfLvJuCBAWxDURTlpNfvBC2lXAe0fsYqlwKPybD1QIYQonCgASqKopyshqMPegxQ0+txbWSZoiiK0g9xrcUhhLiJcDeIoiiK0sdwtKDrgJJej4sjy44gpVwtpZwjpZwzDHEMiO3AAVI//DDeYYyYvJdewrVnT7zDGBGWri5y3n0XEQzGO5QR4d61C/eOHfEOY0SIUIiMt99G7+iIdyhDajgS9PPAishojvlAh5TywDBsZ+hJScrGjbh37MDS0hLvaIado76ejE8+Ieett+AkKPWauns3aTt34qqpOf7Ko5zw+0nbsoW0rVvRfL54hzPs7DU1uLZvx71zZ7xDGVIDGWb3BPAeMEkIUSuE+KoQ4mYhxM2RVV4GKoE9wG+Brw9ZtMPM1tCAtb0dIyUF9/bt8Q5n2GW98w6h1FRsLS24qqriHc6w0nt6SKmsxFtYSMa2bQjDiHdIw8q1bx8YBphm0h9bDIPUzZvxFxXhrKxE7+6Od0RDpt990FLKq4/zvAT+bcARxYuUpGzZgpGSguF246iro6e9nVBGRrwjGxb2hgbclZX4CgqwdHeT/c9/4qmoADHoErYJKWXvXtA0DKcTS1MTztpaPKWl8Q5rWIhAgNRt2whGPrupO3bQU1GBtNvjG9gwsdfVofX0EMrPR/b04Nq1i67ZyXH7hbqTMMLa1IS1uRkjJQWEwLRak+50qbfM9esxbTYQglBqKvaGBpzV1fEOa1joXi9pu3fjjySsYGoqGVu3hluYSchZXY0WDCKtVqTVigiFcCXpscU0Sd20iVBaGgDBzExcu3ej9fTEObChoRJ0RMrWrRhud/RxKCMDx7596J2dcYxqeNiam0nZsYNAZmZ0meFykf3OO3GMavi4KyvDf+g6AKbDgaW7G+fBg3GManiIUIjUbdsI9DrzC6Snk7ptW1JeHLUfOIDe2YnpdIYX6DoIkTQXvlWCBqwtLdgaGjBSUw8v1DSk1Ypr1674BTZMMj74AGm1gnb48IfS03HU1OCorY1jZENP8/tJ27UrJmFBuBWdvmVL0l0cddTUoPv9SJstukzabGiBAM79++MY2TCQkpTNmwn1/t4CgYwMXDt2JMXF0YSZkzCeHFVViGAQa1MTwjTRvF4MtxthmjirquiePj1p+u80j4e0rVtBSmyNjVi7ugi5XEhdRwsESN+4EV9xcbzDHDKO+nosPT2ISCK2dncTTEkBQAsEsLW2EsjJiWeIQypl925EKIStqQk9GAQpMWw2hGGQsns3nnHj4h3ikLG0tmJtagr/GHk86F1d0UaW7vVir6nBO2FCnKMcHJWggZ4pU/CNHQuEWyD2+no65s0LP6nrSZOcAUyXi9qrroqOYih44QU8FRV0TpsGEL2wlCx8Y8Zw4IILALB4PKRv2ULrnDnIyNlD726eZNA2bx6a3w9A+qefgpR0nHoqQPiaQxIJZWbSeuGF4QemSfr779M9fXr4OhIQTE+PY3RDQyVowHS7MSP9z9a2NgCCeXnxDGlY+UpKYh4HsrLwlpXFJ5hhZtps+CPH0mxvB8Cfk4O0JOdHP9QrKUlNQxgGgWT9LGva4X2LNDiCGRmEsrLiGNTQUn3QiqIoCUolaEVRlASlErSiKEqCSuoE/d577/GlL32JK664gscee+yY673xxhvMnz+f7ZHbu+vr6rj++uu5/vrrue6663jrrbdGKOKh8f7773Pttddy9dVX8/jjjx9zvbfeeos1Tz1FbaQ2RSgU4kc/+hE33HAD11133We+NhFt2LCBr3zlK9xwww38+c9/PuL5N998k4ceeoivf/3r/Ou//isvv/wyAA0NDdxyyy3867/+K1/72td44YUXRjr0QenP8V64cCE7IgWURvvx7v39/uMf/3jM9fp+v7du3Tpqvt/JeaUEMAyD++67j1/96lfk5eXxla98hbPPPpvy8vKY9Xp6elizZg3TIqMYAHLz8njkkUewWCw0Nzdz/fXXc9ZZZ2EZBReWDMPgl7/8Jb/4xS/Izc3lpptu4qyzzqKsz0VAj8fD008/zX/0uqDy5ptvEgwG+cMf/oDP52PFihUsWrSIwsLEn2/BMAx+/etfc88995CTk8Ott97KggULKO1zO/fEiRNZds89MRcJs7KyWLVqFTabDa/Xy4033siCBQvIGQXD7/p7vKdOnRpdNtqPd+/v91e//GVWnH8+ep/1jvb9Hjdu3Kj5fidtC3rbtm0UFxczZswYrFYrixcvZt26dUest3r1aq6//npsvYYgWa3W6MEKBAIjFvNQ2L59O2PGjKGoqAir1cqiRYt4++23j1jv4Ycf5tprr0XXD3+khRD4fD5CoRB+vx+LxYK7192ViWznzp0UFRVRWFiI1Wrl3HPP5d133z2h11qt1ujxDwaDmKPo5pX+Hu/en/PRfLz7fr8/97nPsesoN5Ud7fvtcDhGzfc7aRN0U1MTeb2GF+Xl5dHU1BSzzo4dO2hoaODMM8884vVbtmzh6quv5tprr+U73/lOQv66Hk1zc3PMfufm5h6x3zt37qSxsZEFCxbELD/33HNxOBxcfvnlLF++nKuuuoq0SI2DRNfc3Exubm70cU5ODs3NzUest2fPHm655RbuvvtuGhsbo8sbGxu56aabuOaaa7jyyitHResZTt7jfbTvd1dXV8w6yfD9TtoEfTymabJq1Sq++c1vxiyXNhtS1znllFN44okn+P3vf89jjz2GPzL4f7QzTZP777+ff/u3cMHBIBCKtC62b9+Opmk888wzPPnkkzz55JPU19fHMdqhddrpp/PlG2/kgQcfZPbs2dx7773R5/Ly8li9ejWPPvooa9eupS0yHn40C7ndBJ3OmOPdW1IdbyEwhIiWLzjW9/uQ0fL9Ts4ELSWlVistvYrhNDY2xrSwPB4PlZWVfP3rX+eyyy5j69atrFy5ko89HlrPPz+6Xnl5OU6nk8pDBXc+w4bmDbT4R77Qv+bxYI98sXJycmJahk1NTUfsd1VVFbfddhtf+tKXWNnezlcefZQdO3awdu1a5s2bh8ViITMzk+nTp0cvKPXlCXl4r/k9QmZoeHfuKKzt7UfUWcjJyYlpOTY3Nx/RCnaOGUPLokVIXWfJkiVHPSXOycmhrKyMzZs3xyy3dHejx6FCmtfw8m7Tu8f8//xZx7tj7lzqpk+POd7btm3jjjvu+OzjLSW25mYIjfyxrequYkfH8WeByc3NjdnvhqYm9px6arQ88LG+39v71HkvLy8nw26n/pNPhnQ/hkpyJehIfYmsv/+dMyorCVVXU19fTzAYZO3atZx99tnRVVNSUnjttdd49tlnefbZZ5k2bRr33nsvU6ZNo661lVDkw3ngwAGqq6tP6MLJHZ/ewXXvXMcDux6gIzD8U+9oPh8ZH3xA2e9+x5inngJg8uTJ1NbWRvf773//e8wpXkpKCi+88AJr1qxhzZo1lEybxo9/+lMmT55Mfn4+H3/8MQBer5etW7cecZHtkHea3+GurXfxLxv+hXWN6zDl8PfbWjs7yf7gAwpff52UPkXoJ02aRF1dHQcOHCAYDPLWW28dcUrf0tISrXr23nvvMTZye39TU1O0BdXV1cWWLVso6XO3ZcbGjRS99hrpmzahezzDtYtRfsPPM7XPcP3667l7291U9Ry96P5nHW9pseDOzIw53lOnTuUnP/nJZx5v3eMh+x//IO/113Hs3z8iZVnrPfX8z6b/4cb1N/LjLT8+7vpTpkyhpqYm5vs9r1fD6pjf7ylTqK+vj/l+uysrmf3pp2T8859YEuzMKTE7XgbA2txMyqZN2BobMVJSkE4nN910E7fddhumabJ06VIqKipYvXo1kydPZuHChcd8r40bN/LYY49hsVgQQrBy5UoyTqBGhZQSgeCZmmd4ofYFlpcu50ulX8JtGdoLLyIQIG3rVrLefRctEMCfnY090t9qsVj41re+xe23345pmlx88cWUl5fzu9/9jkmTJnHWWWcd830vv/xyfvrTn7JixQqklFx88cWM+4ziOnbNTqu/lft23sdj1Y9xU8VNzM2aixjiov+W7m5Sd+7EvX8/ps2G4XIdsY6u69x6663ccccdmKbJhRdeSFlZGY8++igTJ07kjDPO4Nlnn+W9995D13VSU1NZuXIlAPv37+ehhx5CCIGUkuXLlx8x2kcAwZQUUvbtI7Wqis4JE+iuqMB0OIZ0X0NmiLUNa3m06lG8hheJxKk7j/3/ZjiOd08PUtMwbTYyN2wgtH07ndOn4y8oiKmAOBQafY08uvdR3jj4BoY00IWORB73dRaLhdtvv31Ivt//dd11WB0OZFMTOa++iresjO6pUzESoJaHCE+AEn9CCLl+/fp+v87S2krKli3Y6+sxXC6MyEUOa2Mj7WedRaCoaKhDPaZFaxfh0B0IITCkgSlNbJqNa8qv4fKSy3HoR36Z58+ff9TRJUcjQiFStm8n++230b1e/FlZ0UJOjgMH2Psf/zGk+/NZ1h5cy693/zr8hZKSoAyiC50SVwk3jbuJGekzjpmoFy5cyNq1a4+7Dd3jIXXXLlKqqpA2G4G0NNA0rG1tdI8bR+eUKUO9W8eU+8476F4vhtMJhoGtvR2EoHPiRHrKy0+oENGxRhIBGNJgXeM6flf1OzqDnUgpsWiH208/m/kzJqSOTGU2vaeH3Ndfj1b507xebF1dBNLT6TrlFPz5+f2aeWfhwoX0/W63+lt5vOpxXql/BcM0sGgWNKERMkPkOnL545nHHtc81Nxbt+Leto1gdjaYJtb2dkQwiGf8eDxTpkSLL/XX/PnzkVIOqrUyqlvQ9upqMtetw3C7CfT50OheL2l9ZueWFgutixeHayEP0t2b7ubtptjhTIY8fCqoCx1d6IRkiNW7V/Na/Ws8esajg9pm4V/+Qsru3XjHjDmi6pzm91P2wAMxy7onT6b5vPMGtU2AzmAn166/lr4/5kEziMviQgiBTdiQUlLVXcXKT1dyy/hbuLz48gFv09rZSf4bbyCkxJeTE9NyE1KSUlmJu9csIVIIWhYsIDgEoxAc9fVkbtoUs0z3+aJlStF1AtnZiFCIzE2bSKmq4uCiRYP6XP1ixy9Y27AWm2bDqlnDTfaIzmAn//7Jv8fGI3SeO/u5AW+vt+w330T3emOWWbq6ognadDrxOZ3hxP33v9MxYwZd06cPeHs9oR6ue+c6/IYfu27Hpsf+uNV56rjg7xfELLtlwi1cPnbgn6dD9M5OMt96K1p+FgjXBD/0WNMIZmWF53LcswfX7t20LFlCKE5VD0d1gg7m59MzfTqunTuxtrYSzMyMfpENpxPvhAkxiUxaLEOSnAG+PO7LzM+ZH7Psnq33xMZnBhFCUOgs5GvjvzbobbadcQZaMIj94EGC6ekxv+ym3U7jBbEf6qGqc5xqSeW/pv4X3cHDk3Fu6tjEW41vRR9LKQnIALqmc0b2GSzIXnCUdzpxIZeL9lNOIW3HDuytrQQyMqI3l0gh8BUU4OlVt1oKcTiBDpI/J4e2SInOQ9L7TDSrBQJY29sJpqXRPnUqUu97i0T/XFp8KfW+evZ27yVgBrAKa/QMJNWayhXFV1DgKIiuX+AsONZb9VvH7NkxCVrz+0n/6KPDK0iJpasL3eule9w4vIOcy9GhO7hx/I38ofIP+AwfEokuDv//y7BlcPOEm2NeMyd7zqC2eYiRkkLn3LnQq7HhqK3F0XtKsFAIW1sb0mKJKV8aD6M6QZsOB12zZuEZPx7Xjh249u7FtFqjV3KD6ekEhumuqLHusYx1j41ZdihBh8wQQgjSrGncOP5Gzi84P+Z0daC8JSXUXnMNrqoqsv/5Txz19QQzMqJ9ssNVjF0Iwfzs2B8jieStxrfCidkMJ+bZmbP5WsXXKHOXDXqb0mKhe/x4PGPH4q6qIm3XLpAyOjNKyOXCl58/6O0cdds22xHvnbpnD7rXiwgGsbW1YToctJ56Kt6SkkEnZ4CJqRP5xaxfsLF9I6srV1PrqcUwjWiinpc9b9i6OELp6TFlSvWenujZqN7djaWnB39BAW1nnBFuBA2SLnQuH3s5FxVdxLO1z/Knqj8RNINoIty4clvcXFB0wXHeZYA07YiccKjEMIYRTsxS0j1tGp7x45FDfI2hv0Z1gj7ESEmha84cPBMnkrJ9O459++I23Y0hDRy6g38Z9y9cPObiIUnMMTQNz7hxeMrKcO/ZE07UBw4M7TZOkN/0Y9fsTEufxo3jbmRi6sQh34Zps9E1aRI9paWkVFaStnv3iIyiOBprezuG00n7zJn0lJQM2dnYIUIIZmXO4v7Z97OhdQOrK1fT6GvEMEd+clsRCmFvbCSQk0Pz3LkEh+HGHafFydVlV7OseBlrqtfwVPVTBGR87uyzdHUhTJOeSZPwTJp0eI7DOEuKBH2IkZZGx7x59EyahHPXrhE/NVmQu4CZmTO5pPiSo14QHFK6Hv4wjRuHe+dOnHV1w7u9PsrcZZyWeRpXl17N9PSB90eeKNPhoHPqVHrKy0nZswf/CPcJevPz8ebl0VNaGjPf33AQQnB69unMyZrDO03v8PLBl8m2Zw/rNnszrVY8FRV4S0oI5Ob264LgQLgtbr4y7it8oeQL/N++/xuRIZu9BbOy6Jo5E8/kyTETRyeCUT+KY6hZm5uxV1fTfdppI7K9/oziGA7/s+V/WFK4hNOzTx+xbZ7oKI6h1uxv5vs7vs+q6auG/szmBHzWKI7h4KysRJgmnvHjR2ybR3O0URxDTkrS3nuP7tmzh3zo40ANxSiO5LpRZQhYW1pwjNbbXQdgQ+sGPmj9IN5hjIjGQCMHfAfwm4l5W+9Qc+/di3vv3niHMTKkxNrWhtZnNMpopxK0oiSrYe6aUIafStCKoigJSiVoRVGUBKUStKIoSoJSCVpRFCVBqQStKIqSoFSCVhRFSVAqQSuKoiSopLrVe6BSNm3CuWcPAMI00fx+cv/6VwBMl4vW888f9tt7R0pHsIObNtyE1wgP6A+YAV6qf4nXD74OwJk5Z/KdKd+JZ4hD6qWDL/FI9SNAuMBT0Axyw0c3AKAJjbum3MXU1KnxDHFIZb39NrbI1F9aZMbqgmeeASCYnU3LZxSyH230zk4y160D00RIieb1kvmPfyAjFS27Zs3CP3bscd4lsakEDYRSU9H8fgKHZgkWAqRE93iQQgx5UZx4cuturJqVnlAPFmHBpR+enSQkQ5S6B1dKMtGUOEvC5SwJV5xzauEiOCYmhjTItw9PRbx4Cbnd2A8cIJCVFbPc1tZG6Cgz0Yxmpt2OCIUIpaSEKwqmp0fLiNqamhKursZAqC4OwF9Sgul0huv96nq4prSuo/f00D19elLdkWXRLKwoW4EmNIQQ0X8mJlbNyiVFl8Q7xCE1PW06xc5igjIYs7+GNDg351yybSNXhGgk9Iwfj5Ay/JnV9fA/IRCGQc+kSfEOb0hJu52eyZOxdnTEfm89HgIFBYSyR/+xVQmaSO3hU045XBeW8EzZofR0AgVDVxg9UZyfdz4u3RUzU7REctmYy4Z8/sR4E0Jwfcn1WDRLdEYYKcMF4pePWR7n6IaekZqKp6ICa3t7dJm1owNPWRmh1NT4BTZMvGVl4S6NXjOQWzweekZwOrThpBJ0hK+0FNNqRQSDQLg+bPcppwz5JJmJwKJZuKb0muiMHaY00dAGNUVVIpudMZscWw4hGf4SBwkyL2tezAwlyaR74kS0YDA8jZOUaIEA3UnWej5EOhx4JkyI/iDp3d0EsrOHpX51PCRf9hkgabXSM20alvZ2NJ8Pw+XCP4ITzo60CwsuxKbZMKSBIQ0+X/R50qyDn88vEWlC47qS69C18AS3OjpXF18d77CGTSgtDe/YsVg7O7F0duIrKYnOMpSMvBUV4b5nw0Dv6aFn2rSk6ZZUCboXb1lZeNbo1tZw3/MQTGWUqOy6nSvHXokhDTShcUXJFfEOaVjNz5pPuiUdj+lhVvosip3Fx3/RKNY9ZQq634/u89E1eXK8wxlWpsuFZ/x4HAcOEMrICE8ykCRUgu5F2u30TJlCKCUFX3Fyf4EBPl/4eWyajc/lf44sW9bxXzCK6ULnmpJrsAgL15RcE+9whl0wIwNvURG+goLwLNVJzjd+PIbDQfe0aUnVLamG2fXhmTgRb3k5WJL/f43L4uJ/T/vfpO3a6Gth9kLGucdR6kquoYTH0nb6yM2SE2+G203rhRdiJMhcgkMl+bNQP0mLBXkSJOdDCp3DM+t5IrJolpMmOUP4jPBkkgzjnvtKnnMBRVGUJKMStKIoSoJSCVpRFCVBiUN3V8WbECIxAhlhVquVYOTmmJOFzWYjECnkoyS/k/V4CyEwTXNQA7JVgk4Aa9eujXcII2rx4sW8+OKL8Q5jxC1dujTeIcTNxx9/HO8QRtzs2bORUg4qQasuDkVRlASlErSiKEqCUglaURQlQakErSiKkqBUglYURUlQA0rQQoiLhBA7hRB7hBD/7yjPjxVCvCmE+EQIsUkIcfHgQ1UURTm59DtBCyF04H5gCTAVuFoI0XfWze8Ba6SUpwJXAf872EAVRVFONgNpQZ8O7JFSVkopA8CfgUv7rCOBQyXS0oH6gYeoKIpychpI2bYxQE2vx7XAvD7r3AW8LoT4BuAGPjeg6BRFUU5iw3WR8GrgUSllMXAx8EchxBHbEkLcJIT4UAjx4TDFoSiKMmoNJEHXASW9HhdHlvX2VWANgJTyPcABHDGLo5RytZRyjpRyzgDiUAZLSoqfe47UnTvjHcmIsHZ2UvDPf4YnVFWSSkeggy++8UU+afkk3qEMqYEk6A3ABCFEuRDCRvgi4PN91tkPLAIQQkwhnKCbBhOoMvRcdXWk7tlD7rvvIgwj3uEMu/Q9e0ipq8NdU3P8lZVR5amqp6j31LN65+p4hzKk+p2gpZQh4FbgNWA74dEaW4UQdwshlkVW+0/gRiHERuAJ4MsyUaoyKVHZ69cTTEvD2tlJSmVlvMMZVpbubtw1NfQUFJCxcydCtaKTRnewmzX71uCyuNjVuYtt7dviHdKQGVAftJTyZSnlRCnlOCnljyLL7pRSPh/5e5uU8kwp5Uwp5Swp5etDGbQyeM4DB3DV1xNMSyOYlkbO+vVgmvEOa9ikVVYirVZMmw0tGMRd17dXThmtnt3/LCEzhC50QjLEb3f+Nt4hDRl1J+FJKuuDDzAcDhACw+3G1tqKu7o63mENC4vHQ+q+ffjTwiM/A2lpZO7ceVJ06yQ7b8jLn/b+CUG4qqdN2NjYtpHdnbvjHNnQUAn6JGRvbCRl3z6C6enRZaHUVHLfew+SsCcqtbISqeughT/ups2G7vfjPHAgzpEpg/VSzUsEzAC6pgPhIvmGafC7Xb+Lc2RDQyXok1D2hg2YdjuIw7XEQykp2JuacCXZBTTd5yOtqgp/rx8jAH9qKlk7doBqRY9aQTPIo3sepe/lLZtm44PmD9jfvT9OkQ0dlaBPMprXS8q+fWihEPamJlJ37cJx8CD2piY0wyAtyYbcORoa0IJBHG1tOFpaSN23D0dLC7bubizd3dg7O+MdojJAG1s30hHswKpZEQg6gh0IBJrQCJkhXq8f/Ze+BnInoTKKmU4n+66+Otr/WvLcc3SNH0/7tGkAhNzueIY35DxjxlCbkQGA1eMha8sWmubMwYx0dwTT0j7j1UoiOzX7VO6ffz8AQRnk9g9u58ZJNzIxbSIA5anl8QxvSKgEfRIKZGXFPA653fhzc+MUzfCSFktMXztAIDUVaVEf/dFOFzozsmYAEDDCk9JWpFZElyUD1cWhKIqSoFSCVhRFSVAqQSuKoiQolaAVRVESlErQiqIoCUpdyk5CGzZs4H//938xTZMlS5Zw1VVXxTz/2muv8dvf/pbs7GxWtrSgBQJUzJ1LQ0MDd911F6ZpYhgGl156KZdcckmc9qL/PvroI1avXo1pmlxwwQUsX7485vl169bR+oc/8LfnniMkBEuXLuXCCy8E4JFHHmHDhg0AXHXVVSxcuHDE41f655133uG+++7DMAyWXb4MCmKff/rpp1mzZg2apuFyufje975HRUUFwWCQH/7wh2zfvh0hBCtXrmTOnMSseKwSdJIxDINf//rX3HPPPeTk5HDrrbeyYMECSktLY9Y755xz+MY3vsH4hx+mbeZMWoCsrCxWrVqFzWbD6/Vy4403smDBAnJyjijlnXAMw+CBBx7ghz/8IdnZ2fz7v/878+bNY+zYsTHrTZwwgaU/+EHMMLsNGzawd+9efv3rXxMMBrnjjjuYM2cOLpdrpHdDOUGGYXDPPffwv//7v+Tn53PNimswrou9K/Siiy7iiiuuAOAf//gHP//5z7n//vv561//CsCaNWtobW3l1ltv5fHHH0fTEq9DIfEiUgZl586dFBUVUVhYiNVq5dxzz+Xdd9895vqG1UowcnOK1WrFZrMBEAwGMUdRdbtdu3ZRWFhIQUEBVquVhQsXsn79+ph1DE0jpGnIXre4A+zfv59p06ah6zoOh4OysjI++uijkQxf6actW7ZQXFxMcXExVquVCxZfgBE0cFsO32iVkpIS/dvr9SIix72yspK5c+cC4UZJamoq27YlZolSlaCTgLWtjZTd4epdzc3N5Pa66SQnJ4fm5uYjXvP2229z0003cVNVFXuys6PLGxsbuemmm7jmmmu48sorj9l6bgu08crBV/Aa3iHem+OQEkdDA5bu7pjFLS0tR+x3S0tLzDo+u52fVVdz62238eMf/5impvAcEuXl5Xz88cf4fD46OjrYtGlT9LlD7K2t2NvahmmnlEMsra1Ymo4/t0dTUxMFBYf7NArzCrlw14VMSp8Us96TTz7JsmXLWLVqFd/+9rcBmDhxIuvWrSMUClFXV0ft1q14tm9PyEJhqotjFLN0dpK9YQOZGzcCsOM//uOEXrdgwQLOO+88bDYbL774Ivfedx/33nsvAHl5eaxevZrm5mbuuusuFi5cSGZm5hHv8UnHJzxQ9QB/rPkjVxVfxUX5F2HTbEO3c31Jib2lhazt23EdOEDL9Om0T5nSr7c4/fTTOeecc7Barbzyyiv88pe/5Mc//jGzZ89m9+7drFy5kvT0dCZPnoyu6zGvzdy2DVd9Pd2lpbRNnnzE3YnK4OgdHbg2b8ZRWUmgsJCOxYv7/R4288jP35VXXsmVV17JK6+8wsMPP8zdd9/NpZdeSlVVFddddx2FhYUsGT+eqZ9+SkZaGj2zZhHMy4spJBZPKkGPQnpPD1kffUR25DTcn5ODI9LqyMnJiWn9NTc3H9EKTutVf2LJkiX89rdHFjjPycmhrKyMzZs3H/OCmV2zEzADPLb/MZ6qe4rrSq5jUe4iLNrQfqzsbW1kbN+Os6mJoNNJoNep6yHZ2dlH7Hd2rzMDiN3vCy64gEceeST6+NAXGeDee++lqKjoiG34MzJwNDVRXFdHV2kp7ZMmETpKLMqJ07u6cG7bhmPvXqTNRqhPGYJjyc3N5eDBg9HHjY2N5OXlHXP9Cy+8kJ/85CcAWCwWbr/99uhz9yxfjnvMGITPR8bf/04gP5+eGTMIJUD5A9XFMYroXi85773H+IcfJvvDDwlkZeHPy4NIa08EAkwuL6eptpaG/fsJ+v289dZbLFiwIOZ9ep/6v/fee9ELaU1NTfj9fgC6urrYsmULJSXh+YF9ho+eUE/0n98Mr6cLHV3oeAwPD+97mBs/uZF/NP0DQw6+jKeto4PcDz6gcN06rF1deHNzDydEKRGhUPTfpHHjqK+v5+DBgwSDQdatW8e8efNi3q+1tTX69/vvvx/dN8Mw6IxUtauqqqKqspLTZsyIeX8hJQhBICMDb24urvp6iteuJfvTT7F4PIPe15ON1tOD+6OPyHzxRez79xPMyyOUlRW+PiAlBIOx//p0P0ybNo2amhrq6uoIBoO89tprnHPOOTHr7N9/uNzoP//5z+jx9nZ14evqgmCQD955B4umkZObi5maSqCgAL2ri4y1a0n7xz+w9PrMxINqQY8iJX/9K6l79tBTWoq0WmOe03w+Jjz8MABrKirY9M1vssFiYeHll1NWVsajjz7KxIkTOeOMM3j22Wd577330HWd1NRUVq5cCYQ/0A899BBCCKSULF++nPLycjqDnfzLx/+CSexFw6AZxKWHRzpYRPij1B5s594999IUaOKKMVcMeF9tHR0UvfUWEvDm5MSccgopSa2uJqW2NrpMCsF/rFjBnXfeiWmaLF68mNLSUh5//HEmTJjAvHnzeP755/nggw/QNI3U1FS+9a1vAeEE/Z3vfAcAl8vFD1asoPSNN2Li0X0+gqmpkQAEgcxMME0yduzAXVtL7YUXYvY5JsoxBINkvPYals5O/MXF0YkUABACW3MzWS+9FPOSnlmz8JeVRR9bLBa+853v8G//9m+YpsmyZcsYN24cDzzwAFOnTuWcc87hySef5P3338disZCWlsbdd98d7kp57jn+9NhjCCFITU3l25//PKLXBXEjLQ0jNRVbfT32mhraliwh1OdsbKSIRJnLVQiRGIHEwdq1a09oPXtjI7nvvEPq3r0YTme4HzSSuBwHD1J13XUx6wfT0jCcziGJsbKnMuaC4Ccdn/Bc/XNoIjJLiTQxMNDQuCj/Ir405kukWY9eynPx4sW8+OKLn71Bw8B14ABZ27Zh8fnwp6VhRkaY2Nrb6SkupqvP0MFgWtqQ9B0Kw8Da5yJkzqefIgKB6P9P3evF1tmJPzOT1lNOwZebe9xtL126dNCxjVYff/zx4QdSYm1qwv3JJ1iamzHS0jAjI4mE1wu6Tlefsx8jNRWGogKhlOgdHTEtckdVFY69e6NJWPj9WNrbMZ3O8A9DSUn0LLU/Zs+ejZRyUB9I1YIeRfx5edRefjnO+npy334b9/79hNxuQpG+VV9+/rBtu8JdEfO4wd8AgJSSoAyiC51FuYu4qvgqsm1D0NrQdTzFxXgLC3HV1pK1fTtaZyeByMU502odtgt1Utej2znE1HV0wi1pW0cHgfR0Dp5xBt6CgoS5oDRqCEEwL4/2Cy7AeuAAKZ9+iu3gQULp6UjC//+No1yYHqptG5H64IeY9fXhp4JBLK2tSLudrtNPx19aOjQ/CoOgEvQo5C0qYv+XvoSrpoa8devCc+vFIUn4TT82zcbZ2Wdzbcm15DuG/gdC6jo9paV4xowhpaaGjB07sHV1Dfl2ToSjtRV/ejoN8+fjKSyMPTVX+k8IgkVFtBUUYKurw/3pp1hbWwkc5QLtcLN0dIAQdM+ejb+i4oguxHhRCXoU85SUsO+aa3Dv24cr0goYKRPcE1iUu4gvjvkixc7iYd+etFjoKi+np7iYlOpq/H1aQcOtq6SErrFj8YwZE56AVhk6mkagpIRAURH2mpoRnycymJdH5xln4Bs3Dmm3j+i2j0c1AUY7IegpL6fpzDMH9PLbNt3GP5r/0e/XlbhKuG38bSOSnHszrVY6x4/HP4Dbzxv8DVz76bUEzWC/X9tTWkrP2LEqOQ8nXcdfVoZ/3Lj+v1ZKMl59Fa2np98vDeXm4p06NeGSM6gEfdKr8dawvWt7vMMYEW3BNkxpEpT9T9BKgjNNNJ8PLTJMNFmoBK0oipKgVIJWFEVJUCpBK4qiJCiVoBVFURKUStCKoigJSiVoRVGUBKUStKIoSoJSdxKehPyGP6YyXUiGooWQrMI65PWc48mQRvTGlIAZAMK3qGuRtolds0enQlJGoVAICFc4BMA0o8vQ9VFfJyV5vonKCWkPtvO1j7+GIQ2EEATMAK83vM4bTW9gSpPTM0/nu5O+G+8wh8zLjS/zx7o/RqvuBcwAt2y5BQATkzvH38kpqafEM0RlgPS2NjLXrg0nZUDzesn429/CT5omXfPmDeyuxASiEvRJJs2SRo49h0ZfI1ZhxaofLgpjCIMZ6TPiGN3Qm5IyBYtmQUdHCBGdlsuU4S/1WOfYz3q5ksDMlBSkxYLhciFtvaa7khJrQ8MJz86SyFQf9ElGExrXl1yPrun0rgVuSAObsLE4t/9zwSWy8e7xjHONIyADMcsNafC5nM+RZjl6zWol8UmrlZ5p07D0mcxX7+ggUFIyfCVLR5BK0Ceh+VnzSbOkEZKhmOVXFF2BXU+8gjGDdVXhVViEJfqDZEoTTWhcmn9pnCNTBstfXo60WBDBSH0VKdF8PjxTp8Y3sCGiEvRJSBc615Zci66FK7MZ0kAXOhflXxTnyIbH1JSpFDuKo0WSQjLEwqyFZFpHfwvrZCdtNjy9WtF6VxeBgoK4TVE11FSCPkktzF6IS3cRkiEkkssKL8NlccU7rGEhhOCqwqvQhR5tPV+ef3m8w1KGiK+iIjx5QiiE5vHgmT493iENGZWgT1IWzcJVY67ClCa60FlamNzz5c1Km0WuLReP4WF+xnzy7HnxDkkZItLhwDNlCva6OoK5uYQGUCs8UakEfRJblLeIFEsKS/KXkGpJjXc4w+pQK9qm2biiYOCzjSuJyTd+PKH09HDreZSPfe5NDbM7idk0Gw/OejA69CzZnZ5xOg+d8hDp1uGZbFaJH9PppG3p0oSZS3CoqAR9knNb3PEOYcRoQlPJOYnFjIVOEqqLQ1EUJUGpBK0oipKgVIJWFEVJUCpBK4qiJCiVoBVFURKU6F0wJ540TZOJEstIstlsBAKB46+YRKxWK8FDtRNOIifrfp/MpJSDGpSdMMPspJSsXbs23mGMuMWLF/Piiy/GO4wRtXTpUp566ql4hzHili9fzmOPPRbvMEbcihUr4h3CqKW6OBRFURKUStCKoigJSiVoRVGUBNXvBC2EuEgIsVMIsUcI8f+Osc6XhBDbhBBbhRD/N/gwFUVRTj79ukgohNCB+4HFQC2wQQjxvJRyW691JgB3AGdKKduEEKquo6IoygD0twV9OrBHSlkppQwAfwb6zht0I3C/lLINQErZOPgwFUVRTj79TdBjgJpej2sjy3qbCEwUQrwjhFgvhEjOeZQURVGG2XCMg7YAE4BzgWJgnRBiupSyve+KQoibgJuGIQZFUZRRr78t6DqgpNfj4siy3mqB56WUQSllFbCLcMI+gpRytZRyjpRyTj/jGDauqiry33gDTDPeoQw/06Rw3Trc1dXxjmREuA8eZPpjj2Hp6Yl3KCMif+tWCjdvjncYyiD0N0FvACYIIcqFEDbgKuD5Pus8S7j1jBAih3CXR+XgwhwZwjDI2L4dR1MTjqameIcz7BzNzTiam8ncuRNhGPEOZ9gVfPQRrqYmcrZtO/7Ko5zV6yWzpob0ujqsJ8kPUjLqV4KWUoaAW4HXgO3AGinlViHE3UKIZZHVXgNahBDbgDeBlVLKlqEMerg46+rQvV4C6emkb90KyVwbREoyd+wgkJqKxefDeeBAvCMaVq6mJtJraugqLqZg40Z0rzfeIQ2rzOpqpBBITSPrJDlDSkb9HgctpXxZSjlRSjlOSvmjyLI7pZTPR/6WUsr/kFJOlVJOl1L+eaiDHhaGQfq2bQTT0jDcbmytrdibm+Md1bCxt7Rgb20l5HbjT00lc8cOSOJWdP4nn2BarZhWK8IwyNmxI94hDRuLz0dmdTW+tDS8aWlk7t+PNcl/kJKVupMwwnnwIJbubkyHAwDD5SItiU+FM3btIuhyAWDa7Vh7enA2JueISEdrK5mVlfjSw/MR+jMyKPzkEzS/P86RDY+M/fsBkLoOmoYUIrpMGV1UggYwTdK3biWUlhZdFEpNxdHUhK1lVPTO9Iu9rQ1HUxOhlJToskBKCpnbtyflxdH8Tz/FjCQrINyKDgbJ3rUrzpENPd3vJ3vfPny9Psu+tDSy9+3DkqQ/SMlMJWjA0dCAtbMTw+mMWW46naQn4alw+q5dGJEzhUMMpxNrVxfOJLs4au/oIHvXLnyZmTHL/enpFH70EVqS1WfOqKtDmGa49Rxx6O/0mppjvUxJUAlTDzqenAcPIqTE3tyMCIXQfD6MlBSQEltLC1oggJkkU7prgQD21la0UAi9pQVLTw+Gw4HUdYSUOA8exJufH+8wh0xKXR2aYeBsbQXA1tVFIDUVCI/acTY301NYGM8Qh1RqQwNIibOtDavPB0DQ4QDTJLWhgZbx4+McodIfKkED7dOn0zl5MgApVVW49+2j4bzzAJBCJE1yBjBtNurOOw8RGaFS+PbbdJeU0FVaGn7eao1neEOuddIkOkvCQ/edbW2UvfkmO5ctw7SEP/rBXt08yWD/aaehRbqpSj76CKSkZk74NgNTUyfMo41K0IC0WDAiX9hDCapvd0cyMft0b5gWS9Lur9R1gpEWs+VQizIlJel+iA4xbTYOXUWQQiCkJNTneCujh/pJVRRFSVAqQSuKoiQolaAVRVESlErQiqIoCUolaEVRlASlErSiKEqCUglaURQlQalx0H2E3G4Muz3eYYyYkN1OyO2OdxgjwrDbMaxW5Elyw4YnMxORhLVVTiZJmaC1QABXTQ1vHzzIqocfxjRNlixZwlVXXRWz3muvvcZvf/tbsrOzAbj00ku5+OKL2ScEd91yC6ZpYhgGl156KZdccslxt7umdg1T06ZyStopw7Jfx2Lr6MDW3k535G7Ajz76iNWrV2OaJhdccAHLly+PWf9vf/sbv//978nOzkZIyecvuYQLI7c7P/LII2zYsAGAq666ioULFx51m43+Rt5oeYMLcy8k05p51HWGgwiFyNyzB29m5hG3pH/yySc88sgjmKbJokWLuPzyy2OeD6Sl8XBpKU/+538ihKC0tJRvfetbADQ1NfHggw/SEimO9d3vfpe8vMMT0r/d/jYCwfz0+ehCZ6RYvF5SmproKCpCWo7+dd20aROPP/44pmlyzjnnRD+rjZG7Y//0pz+xfft2APx+P11dXTz44IM0NzezatUqpJQYhsHixYs5//zzEYZBel0dPTk50YqHSnwkVYIWwSDufftI37YNS2cnT73yCj/++c/Jycnh1ltvZcGCBZRGktgh55xzDt/4xjdilmXl5LBq1SpsNhter5cbb7yRBQsWkJOT85nb/1Ptn7AKK+NTxvMvpf/CxJSJQ76PvVm7ukjftYuUmhqkrtNdWophGDzwwAP88Ic/JDs7m3//939n3rx5jB07Nua1Z599NrfcckvMsg0bNrB3715+/etfEwwGueOOO5gzZw6uo3xJt3Vv4+mDT/NC4wtclHsRl+dfToplGG+bNgwy9+5lzPvv425qovaMM6jrlaANw+B3v/sd//3f/01WVlY09pKSwzO0HThwgL8++yw//OEPSUlJoaOjI/rcb37zG77whS8wc+ZMvF4vWp9W9kutL1Hvr+evzX/lqryrOC31NDQxfC1xi99PRnU1WdXV6KEQnuxsAkdJ0KZp8thjj/Htb3+brKwsvv/97zN79mzGjBkDQgBw7bXXRtd//fXXqY4U8M/IyODOO+/EarXi8/n47ne/y6mnnkqe3U7R5s2Yuk5raSmt5eXqbsQ4SYoELUIhXPv3k7FtG1ogQCAjg8b6evLz8ymMtAzPPfdc3n333SMS9NFYe90GHAwGMftxmqihsaNrB9/d+l2mpk3lK2O/Qrm7vP879Rks3d2k79lDSnU1ps2GNzcXR6QY0K5duygsLKSgoACAhQsXsn79+iMS9NHs37+fadOmoes6uq5TVlbGRx99xNlnn33U9e2aHYHg5caXeb3pdZblL+PzeZ/HpQ9hq8s0Sa+upvi997B3dOBPS8Mfqevc2549eygoKCA/krTPPPNMPvzww5gE/be//Y2LLrqIlEj9jfTI+9TU1GAYBjNnzgTAeYzb3nWh0xps5cH6B8m15nJ1/tXMcM9ARBLhUNADATJqasiuqgLAl5GBo739mOvv3buXvLy8aGt//vz5fPzxx+EEfRTr16/nC1/4AgCWXgm/7+fcsFjwpqeTuX8/WdXVNFdU0FZaelJ1/yWCUZ2ghWHgrKsjY8sWNJ+PYHo6MvKl6+nupiAjA93jAaAoNZUdu3cf8R5vv/02mzdvpri4mJtvvjn6QW9sbOR73/se9fX13HjjjUe0nj0hD23BtqPGZdfsSCnZ3LGZlVtWMjtjNivGrqDYWTyo/dU9HtL27iWtqgrTYsGXkxNtJR16vqu+nrGZmegeD6bdTk5ODjt37jzivd599122bt1KUVERN954I7m5uZSXl/PEE09w+eWX4/f72bRpUzTBNQeaCZiB6Ovbg+0AaEJDExqGNHjm4DO82PgiXyz4IhfkXIBDH0SrS0rSamoYs349ztZWAikpeCLJ1+rzoQUC2Lq6oqt76+qiXVUAWVlZ7O5zvA9EpvX63ve+h2maLF++nFNPPZUDBw7gdru59957aWxsZNr0aSxevjimFR2SofC2NStSShoCDfyq9leMsY/h6ryrmeKeMvB9BbRgkPS6OnL27kWYJr709JiSobrfj6VXPKbFgmm10tbWdsR+792796jbaG5upqmpialTp0aXtbS08Juf/5y2hgauuOIKch2OaM0SNA1vZmZ4BpqqKrKrq2keN4624uKkKiCWyEZ1gnbW1JD39tsEMjMJ5ObGPGcNBpna1kb+m28CMHP7drIbGxGBADLy4VqwYAHnnXceNpuNF198kXvvvZd7770XgLy8PFavXk1zczN33XUXCxcuJLNXTeF7d9/Lxs6NMds0pAGRfCmEwCZsmNLknZZ32NOzh9/P/v2g9jf3449Jqamhe8yYI/ojdb+fwrffZvru3aQ1NFD49tt4jlFG8/TTT+ecc87BarXyyiuv8Mtf/pIf//jHzJ49m927d7Ny5UrS09OZPHkyuq7TFerim9u+iewzR2NQBqOtZV3oIMBv+nm09lECZoArCq8Y8L66GxuZ+MILmLqOp1dfMIAwTbJ27yaz8vBcxKkHD7L3OEnDMAwOHDjAXXfdRUtLC9///vf5+c9/jmEYbN++nXvvvZecnBy+8/R3+Nuev8WcSRnSwCrCj4UQWEU4Ue/17uWe/fewasIq0i1HtuxPVPbeveTv3El3bu4RrVSbx0PRli0xy0JWK9ULFvRrG+vXr2fu3LkxPzzZ2dk8+vnP429v5+9r15IvJU6nE3tPD97I513qOp7MTHS/nzGffILF66Vh2rQB7qnSH6M6QXtKSmhcuJCMLVuwNzYSyMiIJl9bZiZvNzQwM1I29M2WFsyCAk7p9SVO6zXrxJIlS/jtb397xDZycnIoKytj8+bNMRfMVk5YeUQL+usbvx79W0pJUAbRhc5Z2Wdx/djrB72/TbNn409PJ62qCmmxhE/1Iy1ow27nwFlnUZebyzN1dUw76yxMu53mv/wlpoXVd78vuOACHnnkkejjK6+8kiuvvBKAe++9l6KiIlItqfxq6q9iWtAftH/AUwefij42pIGUErtm55qia7gw98JB7WtPXh67li1jzHvv4WpoIJCaSijSFy41jdYJE2g49dTo+rv37GH7Sy9FH7e2th6x39nZ2UyYMAGLxRLt/jpw4ADZ2dmUlZVFu0cuLriYzRs386XlX4q+9he1v6AlGL6AKKUkJENoQmOccxzX5F8zqOQM0DJuHCGHg5y9e7H19MS0oAMuF/WnnEKwV9fLoXKpmZmZ0Qubh/Y7M/PoF23Xr1/PDTfccMTy6tNPRwuF+Gj/fgJpacyfNo2xH3wQfV4YBs7OTqSmUXfqqbQVD+5MUDlxo3u8ka7jGTuWAxdcQMvs2Vi8XuyNjYhgkNzcXPY3NlLb0YHPauXVd97htD59qb0/2O+99160n7apqQl/ZHqgrq4utmzZEtOXCeCyuBjjHBPz7xC/6cfEZEb6DO495V7umHTHoLs3IDxPYtv06dSdfz49RUU4WlqwtbdHZx83XC7KZ8xgT0MDdZ2dBEyTdevWMW/evJj3aY30VwO8//770X0zDIPOzk4AqqqqqKqqYvbs2QDk2HIochRF/2VYMwAwpUnQDKIJjcsLLueBUx5gWf4y7Nog+yqFoLOkhO1XXMHeiy5CahquhobobNymzUYgNTX6r3jGDA4cOEBDQwPBYJB33nmHOZE6yIfMnTuXrVu3AtDZ2cmBAwfIz89n3LhxeDye6EXD7Vu2MylnEoX2wug/i4jUjzaDmJjk2/K5rfg2/qfsf5jsmjy4fSVc5ratrIzKs8+mpaICR1cXzra26DA5w24n5HRG/x0ql1pRUUFDQwNNTU2EQiHWr1/Pqb1+uA6pr6/H4/EwvlfB/tbWVgKBAKbVSodpsrGykqzSUkKHWvCmibOtDWdnJ83l5exZuJCWigrVvTGCRnUL+hBpseApL8dbXBwdxWH1+VixYgV33HEHpmly4YUXUlZWxqOPPsrEiRM544wzePbZZ3nvvffQdZ3U1FRWrlwJhC+WPfTQQwghkFKyfPlyystP7EKficmU1Cl8pfQrwzaKI5SSQsusWXSOGxczigNA13Vuvvlm7rzzTkzTZPHixZSWlvL4448zYcIE5s2bx/PPP88HH3yApmmkpqZGh5oZhsF3vvMdAFwuF7fffju6fuwhZX7Tj0NzcHHexcM3ikPT6Cgvp2PsWDIrKxnz/vvYe42+OETXdb761a/yox/9CNM0Oe+88ygpKeHPf/4z48aNY+7cucyaNYuNGzfyrW99C03TuP7660mN1Iq+/vrrufvuu5FSUlFRwaJFi47YhiENcqw5XJ13NbNTZw/LKA7DZqNl3Dg6iovDozj270cPhY65vq7rrFixgp/97GdIKVm4cCHFxcX85S9/oby8PPoDu379eubNmxdzQbO+vp4nnngi+vjiiy8O/1h7POihEK72dlrLymgtK1OjOOJE9O1XjBchhFy7du2QvJcWCOCqrcVTWIg5kEL0phmdYLQ/BjIOevHixbz44ov93lZvfcdB98sA97XR38ibLW9yQe4F/R4HvXTpUp566qnjr3gUnzUO+kSEZCjaGu6Pt9vfRhMa89LmDXgc9PLly3nsscf69RqL14u7uZnOwsJjjoM+FlOGW9/9/SGJjoPOzY3pVhmoFStWDPo9Risp5aCG+IzuLo5jMG02uisqBpScHQcOkPfPfw5ou18q/tKI36QCEEhPH1hyBorWrcNVX9/v1+XZ87iy6MoRvUkFwmdLrZMnDyg51/vr+ded/xrTl36izso4izPSzxjRm1QAQk4nHSUl/U7OAL9t+i33N97f79dJXad97NghSc7K4CRFF8dQsvT0oB8aZnQS0H0+rD098Q5jRHQb3ZiYhGQIG8nfj7rNuy06PFAZnZKyBa0oipIMVIJWFEVJUCpBK4qiJCiVoBVFURKUStCKoigJSiVoRVGUBKUStKIoSoJS46AJ350mgkEAtMhttVqk5gNCYCbZba6az4fodQepFgwernFhtQ7opohEFTSDtIbCtUfaQuHiVk3BJhxG+JjmWnOHtfD+SOs0OvGb4ToyhjSA8P5CuAxump52zNcqiSd5vomDkLZ1K6mVlUhdRxgGus9H4dq1ICXSauXA5z4XrZI32mmBAMV/+xt6KIQkfGOOtaeH9F270AyDjooKWo5SbGe0eq31NZ5qegqbCB8/v+nnh/t+CEBABvjPkv9kRsqMeIY4ZKSU/Lj+x3QanehCxyvDP7p319+NKU1cmouflfxsSCcYUIZX8jQdBsGfnw9CEMjJwZ+fj6e0lEBODqbdjj8zM2mSM4Rvg/dnZRGy2fDl5NBdWoonPx9fTg5SCDyRmViSxazUWdHaG0IIUvQUhBCYmNg1O+Od44/zDqOHEIIZzhlIJAKBW3Pj1twIwvs7wzW0s78ow08laMCXl0cwNTV6mn+I7vPRNWlSnKIaPu2TJx+eNSNC93oJpKYOqMZFIiu2FzPZNZmAjK2/IZFcmHXh0E7PlQCWZCxBQ4sWSoJwy1pDY0nGkjhGpgyEStAQLmk5ZQqWXlMoWbq68OXmEsjKimNgw8OflYU3NxdLd3d0ma2ri7apUwdU2S7RfTH3i1iEJTojjClNNDQuzBrcpAKJKNOSydyUuYQ4XIMjSJDZrtnkWD570mMl8STft3GAfPn5hFwutEjLUvd4krL1fEj75MnRIkmaz0fQ5Uq67o1DKpwVVDgrCMrwhWBDGpyfeT4p+jDOQh5Hn0//PDo6UkqklOjoLM1cGu+wlAFQCfoQXadjyhSsnZ3oPT0EsrLw95kyKZn4cnLwZ2Vh6enBfqj1/BnF+Ue7K3KvQBd6uPUsNC7OvjjeIQ2bXGsuM10zCRIkKINMc04j35pcXVcnC5Wge/EVFWE4HFg7O+mYMiVmxuykIwRtU6di7+wkZLfjGTPm+K8ZxSY6JzLGPgav6eXsjLPJsGTEO6RhtTRjKTo6utBZlrks3uEoA6QSdC9S1+mYPBl/Tg7+nOTvr/Pm5uLNyaFtypTolFnJSgjB8tzlODQHl2RfEu9whl2RrYgpzilMcEyg2KYmeR2t1DjoPjxlZXjKyuIdxsjQNOojs56fDKanTOd3k38X7zBGzK35t8Y7BGWQVAtaURQlQakErSiKkqBUglYURUlQKkEriqIkKJWgFUVREpRK0IqiKAlKJWhFUZQEpRK0oihKglIJWlEUJUEJ2Wvqo3jSNE0mSizK8LJYLIRCoeOvmGSsVivByNRqJ5OT9XgDSCkHVdAnYRK0EEKuW7cu3mGMuIULF8Y7hLh47LHH4h3CiFuxYgUPPvhgvMMYcTfffDP33XdfvMMYcbfffvugE/SAujiEEBcJIXYKIfYIIf7fZ6z3RSGEFELMGXiIiqIoJ6d+J2ghhA7cDywBpgJXCyGmHmW9VOA24P3BBqkoinIyGkgL+nRgj5SyUkoZAP4MXHqU9X4A3AP4jvKcoiiKchwDSdBjgJpej2sjy6KEELOBEinlS4OITVEU5aQ25MPshBAa8AvgP09g3ZuEEB8KIT4c6jgGKmgG6Q51H39FZfSREovfH+8oRowWCqGdRKMn9FAIEmTQw1AZSIKuA0p6PS6OLDskFTgFeEsIsQ+YDzx/tAuFUsrVUso5UsqEuYj4aNWjfPWDr+I3Tp4v8ski7cABZj79NLZes7cns0nvvMOUf/4z3mGMCKvfzynvv09qW1u8QxlSA0nQG4AJQohyIYQNuAp4/tCTUsoOKWWOlLJMSlkGrAeWSSkTppV8LF3BLl468BLdoW7WNqyNdzjKECv+9FMcnZ0UbN8e71CGnau9ndz9+8murcXd2hrvcIZdTn09Do+Hon37kqoV3e8ELaUMAbcCrwHbgTVSyq1CiLuFEKN6dsrn6p4jZIbQ0PhT9Z8ImSfP6WGyS2loILWhgY6iIvK3b8fq8cQ7pGFVvHUrpq5jWCyUbN0a73CGlSUQoKC2lvbsbFI6O0np7Ix3SENmQH3QUsqXpZQTpZTjpJQ/iiy7U0r5/FHWPXc0tJ49IQ9/qf0LmtCwaBZ6Qj282fhmvMNShsiYTz8laLdHJ8fNT+JWtKOzk4LKSnrS0vCkpZG3bx+ujo54hzVssg8cQJgmUtcJ2u0U7tsX75CGjKrFEfFS/UuEZAhdhL/ApjT5474/YkgjzpEpg+Vubia9vh5/aioA3vR0CrZuxeL1xjmy4VG8fTumroOmgRCYus6YbdviHdaw0INBCmtq8ESOrc/pJK21FVeStKJVggb8hp8na55EcPiuTIuw0B5s592md+MYmTIUijZuxLBaQYSPr7RYEKZJ7u7dcY5s6Nl7eijcvRtPWlp0mSctjYK9e3Ek4cXRrIYGNMMI/yABCEHIbqdw//74BjZEVIIGXj3wKgEzEG09AwghMKXJo/sexZRmHKNTBsPZ2krW/v340tNjlvvS0ynatAk9yYbdFe3YAYDUDn+1paYhhWBMknXraKEQRdXVeFNSYpZ7XS4ymptxdo/+4bKWeAeQCD5t/5SgGcQQBiEZwpQmNs0GQKO/kc5gJxm2jPgGqQyIu6Ul5r8Wn4+QwxF+UggcnZ305ObGK7whl97QgJCS1JaW6Lhgw2oNP9fYGOfohpbd50MzjGgitgaDBCP7CuDq7DwieY82KkED/zX1vwjKcBnI1XtXs/bgWp468ykANDTsuj2e4SmD0Dx+PK3l5QC4WluZ+MYbbLr0UszIF9m0JNdXYONFFyHM8Bnf7JdeQkjJR0uXAiDFoAqrJRxvSgqfnnkmAJqUTP3wQyqnTMETScq9zyJGq+T6dA6QRbNgifyvsGrhL65Td8YzJGWoCBFNwof6KU2LJekS8yFS06KJSQqBkDJp9xWIjsoxIz9KUtOiy5LB6P+JURRFSVIqQSuKoiQolaAVRVESlErQiqIoCUolaEVRlASlErSiKEqCUglaURQlQSXvAMkBmpo2lc3tm+MdhjIMQg4HQZstKW5gOBFNZWVoxslR7EsKQchiibmTMBkk5SdV7+khZfNm9J6efr/23LxzeWDOAwPabsrWrdgbGpKqYHiisfj9FH3yCWl1dcdfuY+A283mL3xhQDcyvNb+Gq91vIbfHNnaHSktLZR/9BGWQKDfr90/Ywb7Tj2136/zml7+1PEn9gT29Pu1gyFMk4yGBjIPHhzAiwXb58wheOg2/n5wdXSQv38/ejDY/+0Os6RqQWteLym7d+PeuROLx0MwOxvD7R6x7adu24YwTQK5uXROn04giWo8xJsWCJC/cyclH32Eo6ODffPm0TlmzPFfOETW96ynPljPqx2vsixjGWenno1FDN/Xx9XWRummTeTu349mGDSMG0fIZhu27fXWbrbzoe9DPvF9Qom1hMtSL6PUWjp8GzRN0ltbKdq3D1d3N52ZmbQVFAzf9vpIa2+nfOdOCvfvp76sjOaCgoS5+zIxohgkze/HtWcPqTt2gJQEsrJACDZu3MgPVq7ENE0+//nPc9111x319W+99RZ33nknq1evZvLkyYRCIe655x527dqFYRhcdNFFx3xtX/68PPTubnLfeANvQQFd06cTzMoayt09qWihELm7djH2ww+x+P14MjKOeYayadMmHn/8cUzT5JxzzuGSSy6Jef5Pf/oT2yMV3fx+P11dXTz44IM0NzezatUqpJQYhsHixYs5//zzj3h/HZ2AGeDp1qd5qf0lLs+8nHkp84Y0UTs6OyndvJn8ykoMi4WurCxS2ts/8zVbt25lzZo1mKbJmWeeyUUXXRTzfGtrK48++iherxfTNLnsssuYPn063d3drF69murqaubPn8/VV18dfY1N2JBSsi+4j1+3/ppxtnEsS1nGGOsQ/ihKSWpbG2P27cPR04PP5aKnV5nU/tixYwfPPfccpmkyb968I45fa2sra9asoaenB6fTyTXXXENGRkb0ea/Tic/ppHjvXgqrq6krL6c1P/9wGdM4GdUJWgQCuKuqSN26FQyDQGYmRH75pGHw5MMP86sf/Yjs7Gz+8z//k/NPPZWiadNi3sPj8fD0008zderU6LI333yTYDDIH/7wB3w+HytWrGDRokUUFhYe3rbff/SC70JgpKZipKRg7eggd+1afCUldE6dSqjXB0L5bMIwyNm7l7EffIDN68Wbno6v15fX6vfjbmqKPjal5LE//IFvf+c7ZGVl8f3vf5/Zs2czplcr+9prr43+/frrr1NdXQ1ARkYGd955J1arFZ/Pxx133kHG9AxSI0XgAfwy3LVxqCStx/TwRMsTvND+Al/M/CKnuU9DEwPvMbT39FCyZQtFu3Zh6jpdmZnhgvsRrs7OmP7koN2OPyUF0zR54oknuO2228jMzOQnP/kJM2bMoKioKLruyy+/zGmnncY555xDfX09v/nNb5g+fTpWq5Vly5axq3EX+9v2szewF4BWIzyHoRACG+FEvSuwi1+2/pIp9iksTVlKviV/wPuKlKR0dlJYVUVKVxc+p5PuzEwgPH2VZpo4+3RP+hyOY3ZNmabJM888w0033UR6ejqrVq1i6tSpFPRqhb/44oucdtppzJ0zh/rNm3n3uef44he/GN5mZOZz02KhOyMDPRikdNcuiqqrqSkvpz0vL27XLUZ1gnbU1ZG5fj2BjAxCfVqpLfv3c57LxdTdu2H3bm4tKcHz5JOI730P2etU8eGHH+baa6/liSeeiC4TQuDz+QiFQvj9fiwWC+4+XSWpW7fi7NMPqvWuLSwEobQ0DKcT986daD4fzUdplSlH525tZcKbbyKFoDs3N1psH0BISXZVFZm9irK3dXQwMzOTvLw8AObPn8/HH38ck6B7W79+PV/4whcAsPQ6nQ0Gg3gneFndvRrRc3ibhjSwisMXoCzCgpSS5lAzv2v+HZOdk0nVDyf0/irZupWyTz+lMzf3iH5UR1cXE9avj1kWstvZcOml7Nu3j7y8PHIj3Wlz585l06ZNMQn60OcZwOfzRVuOdrud8ePH8xvHbwiVhNjddngCA7/049bc0dfbsGFIg099n2JicmPGjQPeV800KduxA4fHQ3t2dswPEULg7O6mos88inWlpbTnH/1HYf/+/WRnZ5OdnQ3ArFmz2Lp1a0yCbmhoYNmyZTg8Hi7wePBt3874zeHBAMI00XqdlRlWK10ZGaR0dDBu+3a2uVwxEyCMpFGdoL1lZTS6XKRt3Ii9oYFgaiqmywVAeyjEvvJyGpcsAWCPrrNt+3Zu65Wcd+7cSWNjIwsWLIhJ0Oeeey5vv/02l19+OX6/n1tvvZW0Pgeoc9YsumbMiFlW8Mwzhx+EQtja20HTaFuwgJ5IyUvlxHTn5rLxC19g7IYNZNTWEnQ48EeOgRSChkmTqJkzJ7r+hx9+SKDXtE5ZWVns3bv3qO/d3NxMU1NTzFlTS0sLv/jFL2hoaODKq67krNKzYl7z0/qf0hQKt9illARlEF3onOo6lS9kfmFQyRmg8rTT6MrOpvzjj0ltacGTmooR+az6UlPZvGhRTJI41KJra2sjM9L6hPDZQFVVVcx7L126lFWrVvHmm28SCAS47bbbYp7/4v4vsq92H1dccQUADUYDD7QdvlBuShMTE4uwcGnKpSx0LRzUvpq6zs6ZM8mrrye3vh5D0/CmpoZ/hKWkJy2NvaecEvuaz2jBdnR0xHRXZGRkRM+ODikqKmLz5s1knH02a5xOHguFKJw2DbfbTX5NDfk1NdF17R4PNr+fjuxs6svKotNpxcOoTtAIgT8/n6bPfQ7HgQOkbdoUTtSR2TNMIZC9Sk32PsimaXL//fdzxx13HPG227dvR9M0nnnmGbq6urj11luZM2dOTKuEXmUdYxgGtrY2BNA5ZQqeceMwB3BlWYGe3Fy2X3wxqQcPMnbDBtIOHCAQ+QGWQkRrOgOE+tFXuH79eubOnYvW6/hlZ2fzox/9iLa2NlatWsXpc08nvdcsLIe6Lw7NvDPRMZErsq5grH3sYHcTCH8+G8aNo2nsWAr27qVs40b0rq5oUjZ1PWZ/+2PDhg0sWLCAxYsXU1lZySOPPMKdd94Z3X8dHYthwamFS+zazXD980OJWRc6i1yLOM91XnSdwQo6HNRVVNBUWEh+bS3ZBw9iWK2EDtXpHuK+36VLl/LMM8+wYcMGKioqcKeng9WKqevROtk2rxe710tXZiaVU6fS02cWnngY3Qn6EE3DN2YMvoICHHV1pG/cSIbFQktkFg2Apqam6GkghPueq6qqoq2J1tZW7rjjDn7yk5+wdu1a5s2bh8ViITMzk+nTp7Njx47YBH00QmBraaFn0iS6J0yItuaVwekqKGDr0qWk19dT+sEHuHq1dg7JzMyMOd6tra0xLcve1q9fzw033HDU5zIzMxkzZgw7d+7k9NNPj3nOwKDcXs7yrOWMc4wbxB4dm2m1Uj95Mg0VFRTu2kXp5s3onzHELjMzk7a2tujj9vb2I/b7nXfe4Rvf+AYAFRUVhEIhuru7jzgr7M0v/ViFlbOcZ7HYvZgUbXhmJgk4ndRMmEDTmDHk799PTkMDnf28VpOenk57rwup7e3tMT+uh9b58pe/DIQvEG/evBmn8/CPjcPrpd3tpnryZLrS02O61OIpORL0IbqOb+xYfEVFWGbMYOPKldTX15Obm8vf//537rzzzuiqKSkpvPDCC9HH3/zmN/n617/O5EmT+OSDD/j444+58MIL8Xq9bN26leXLlx93861nnBHudx7l0+wkJCHoGDOGTZddRkZtLb4+p50VFRU0NDTQ1NREZmYm69ev55ZbbjnibSrrKvF4PIwfPz66rLW1lZSUFGw2Gz09PezateuIkRBfzPwiFmFhkmMSYgS+vIbNRu0pp3Bw/HgyDhw4Yn8PKS0tpbGxkebmZjIyMtiwYQNf/epXAaKzBGVlZbFjxw7OOOMMDhw4QDAYjLkA2leOnsMVqVcw3T6ddH1kWpE+l4vqyZNpLC5G9PPmmpKSEpqbm6lrqSM/PZ9PP/005oIwEB29oWkab7zxBnPnzo0+15qbiyclhc7I6K9EklwJ+hCLhVBpKbf8+79z++23Y5omF198MeXl5fzud79j0qRJnHXWWUd9qaO2ln/NzuZbe/awYsUKpJRcfPHFjBt3/BaT/3gtbGXwhKC9pOSIxbqus2LFCn72s58hpWThwoUUFxfzl7/8hfLycmbPnk1toJYfd/+Y8xecH5Nk6+vrY65BXHzxxZT02cYprtg+0ZEScjho/ozrF7quc+WVV/KrX/0K0zQ544wzKCoq4vnnn2frjK0405x86Ytf4vHHH+fvf/87QghuuOGG6P5/97vfxefzYRgGGzdu5Jvf/CZFRUWc5Tr692O4DWQOQV3XufTyS/n/jP+PtEfSWDBzAQUFBbz66quUlJQwbdo09uzZwyuvvAKEf8wPXSAGCLhc0a6zRCNkgtz1JoSQ69ati3cYuHfvxr17N40XXzwi21u4cHAXXEarxx57bMS3uce3h58f/Dm/GPuLIetL7Y8VK1bw4IMPjtj2vtP4HUxM7s27d8S2eTQ333wz991337BuIyRD3N1zN192fpkKvWJYt3Wibr/9dqSUg2qSJ+Wt3oqiKMlAJWhFUZQEpRK0oihKglIJWlEUJUGpBK0oipKgVIJWFEVJUCpBK4qiJKjkvFGlnzS/Hy1S7UuP/NfS0QGEi9IYcSyWogyO1/RSFwhXHTz030p/JXYRrjdRbi+PlhBNBo2hRrrNbgBMTAAqA5UAuDX34MqEJhhTmtSY4dv+Q4RLhjaYDeiEj2eelodTjPx496GkEjThqapS9uxBWq1gmlgiBfeREqnrNCxZElOiVBk93ux8k+fansOuhROy3/TzUONDAPhMH9/M/2bc7hIcalJK7m+7nx6zB13o0Vu9H2p/CEMaODQHP8j5wYjcqj4SKo1KHvE9gp3IscXPWv9aAAIEONd6Lp+zfy6eIQ6a6uIAfCUlSE3Dn5ODPy+PnooK/Dk5mFYrvsJClZxHsbnuuehC59Adsyl6+FZiQxq4dTcTHRPjGd6QEkIw1zEXSXhf7cIePVOQSOY45iRNcgYo08twCzcGBghwCzeI8L7q6My0zox3iIOmEjQQyMkhkJ0dO8mslGiBAN0Tk+cLfDLKteYy0zWTIEdOCLokfQk2Lbl+fM91n4smNExpRpeZ0kQIwfmu5JowwiIsnGs994jlQYJM0CeQq43+OUFVggYQgu6pU7F0d0cXWTo78RUVqWmqksAlGZegc7gVbUgDXegsTE2+OigpWgoLHAui/c8QLpN6uuN00vT4zAoynOZY52ARFgwZroAnZbj1vMi2KM6RDQ2VoCP8ubkEMzLQvF6QEt3vp3vSpHiHpQyBIlsRk52To32yEsnitMU4tOScSGGRexECgSlNpJRoaHzOPbr7Yo/FJmwstB7+oQ0SpEwvo1Av/IxXjR4qQR+iaXRNnYq1uxtLdzf+vDw1G3cSuTTjUnShR1vP56cl1+l+b+l6OnOcczAwCBJklmMWWXryfpbnWeehCx1TmujofM6WPD9GKkH34i8owHC7sXR10T1lSrzDUYbQWPtYKuwV+KSPc1PPxa27j/+iUWyxezEaGjo6F7ovjHc4w8ohHJxhOQM/foq0Ikr0I+uFj1ZqmF1vmkbntGk4a2oIRGYIVpLHZZmX0djUyOL0xfEOZdhl69mc5jiNECFyLaP/YtnxnGE7g49DH3OB/YJ4hzKkVILuw1dcjK+4ON5hKMNgnGMc95TcE+8wRszV6VfHO4QR4xIuvu3+drzDGHKqi0NRFCVBqQStKIqSoFSCVhRFSVAqQSuKoiQolaAVRVESlErQiqIoCUolaEVRlASlErSiKEqCUglaURQlQakErSiKkqBUglYURUlQ4lAR8xN+gRAXAasAHXhYSvnTPs//B/A1IAQ0Af8ipaw+3vtqmib7G4syOlksFkKhULzDGHFqv08+UspBzTHWrwQthNCBXcBioBbYAFwtpdzWa53zgPellB4hxC3AuVLKK0/gveX69ev7G/+oN3/+/HiHEBcPPvhgvEMYcTfffDP33XdfvMMYcbfffjt33XVXvMMYcXfdddegE3R/uzhOB/ZIKSullAHgz8ClvVeQUr4ppfREHq4HVGk4RVGUAehvgh4D1PR6XBtZdixfBV7pb1CKoijKMNaDFkJcB8wBzvmMdW4CbhquGAaiJ9RDR6CDIldRvENRhpppYvX7CTqd8Y5kROjB8ByMhtUa50iUgepvC7oO6D2fTHFkWQwhxOeA/wKWSSn9x3ozKeVqKeUcKeWcfsYxbB7a9RA3vX8TPaGeeIeiDLGU1lbGv/8+No/n+CsngdJduyjfsSPeYSiD0N8EvQGYIIQoF0LYgKuA53uvIIQ4FXiIcHJuHJowR0aLv4XXD76O3/TzYu2L8Q5HGUpSkrdvH1a/n6za2nhHM+yc3d1ktLSQ2taGq6sr3uEoA9SvBC2lDAG3Aq8B24E1UsqtQoi7hRDLIqvdC6QATwkhPhVCPH+Mt0s4a6rXYJrhmYH/b9//4TN88Q5JGSLu9nacnZ105uaSXVeH1Zfcxza/poag1UrQZiN///54h6MMUL/7oKWULwMv91l2Z6+/R+Wc5x2BDl6ofQGLZkETGn7Dz6t1r3LZ2MviHZoyWFKSW1VF0OEATcPUNDJra2kcPz7ekQ0Lh8dDZlMTXRkZAGQ2N3OwpwevO7lnMk9G6k7CiL/s/wuGNNDE4f8lj1U9Rsg8OQfYJxNnZycp7e0EXC4AfCkp5NTWYvEf8/LIqJZbW4thsYAQIARBm428k6BbJxmpBE145MZfa/4ak5wtmgVvyMvfDvwtjpEpQyF33z6Cdnv0sdR1ADLq6+MV0rCxeb3kHDyIp1dr2et2k93QgP0kuTiaTFSCBp6reY6gGURDQ0oZ/Wdg8EjlI6oVPYo5OjtJa2kh4HAgTBNME2Ga+Nxucqur0QOBeIc4pHLr6pBCIAAR2VchJYamkVd3xIArJcEN2zjo0aS6pxohBAYGQTOIIQ0cugNNaATMAD2hHtJt6fEOUxkAm89HyGoNtx6lxOb3E7DbQQhMiwVLIIBhs8U7zCFj9/kwdR1nTw96KIQAQhYLUtOwJ/mF0WSkEjRwxyl3cAd3APDrHb/mhboXePX8V+MclTIUOvPy6MzLA8De3U3ppk3smTcPM9LNkWwqTzkl+vfETz5BN022n3ZaHCNSBkN1cSiKoiQolaAVRVESlErQiqIoCUolaEVRlASlErSiKEqCUglaURQlQakErSiKkqBUglaUJCXUJMyjnrpRpY/Tc06nwdcQ7zCUYRCy2fCmpmKKQc3jOWo0FRaiqSQ9qiVlgra0t+PctQvP5MkYaWn9eu28nHnMy5k3oO2mfvQRgZwc/MXFkKR3qsWb1ecjp7qa7sxMuiJ3CJ4ow2ajZvr0AW33+a7nCcogF6RcQKqWOqD36DcpSe3oIKuhgdqKin5PXdVaWDigzfbIHp70PclpltOYbpkeU0RMGVlJlaD1zk5Stm3DUV2N5vPhLy7ud4IeDOfevbh278ZISaFr1iz8RUWgqQ/3ULD4/WTX1JBbXY3N56N20qR+J+jB2ObfxkHjIOt961noXMgi9yJcmmvYtufu7KSoqorU9nYEcLCkZMTmFuyW3VQZVew39vO3wN9YYlvCFMsUxEly5pFIkiJB693duLZvx1VZiWm1EsjNxdrcHJdYAgUFaF4vGW+/TTAjg+4ZMwgUFoZr8yr9pgcCZNXWkrdvHwCetDTMOP3oWbCAhLc8b/G2923Od53POa5zcGiOIduGq6uLwupq0lta8DscdGZlkdLRMWTvf6KswoqUkg7ZwZP+J8kOZrPEtoTx+niVqEfQqE7Qms+He8cOXDt3Ii0WArm5MS1Wa0dHTGKUFgvB3Nyh2XZPD5bOzqM+ZzqdBJxOtJ4eMtetI5iTQ9eMGQRHsMU32mmGQVZdHXl796KZJp7U1GgdZwhXqUvt9SMsge6srCE5Y+k2u9nu3x6zrEeGJxHWhIaGhilN1vas5S3PW1zovpCzXWeji4F3azk8Hgqrq8lsbCRgt9OZmRn97AopSensjKlGF7Tbh2yGlP3GflrMlujjdtmOlBIhBBYsSClpMpt43Pc4BVoBS+1LKdFLPuMdlaEyqhO0taEB9+bNGG43oV4faADd66X+1VdZu3YtUkpmzpzJgoULaV28GNnnVPGNN97gu9/9Lo888ghTpkxh69at/PSnPwVASsnXvvY1zj333JjXuHbvxtFnrjetzwwdpttN0GLBXleHabHQrhL0CbN5vRTu3AlAd0ZGbOKVktTmZlLa2g4vEoJXHQ4efeEFTNPkzDPP5KKLLop5z9bWVh599FG8Xi+maXLZZZcxffp0uru7Wb16NdXV1cyfP5+yS8t4uuvpmNcaGOEWdIQmwknaK7281P0Sc51zcYuBJ8ysxkZy6+roTksj4HTGPGePJO/eQlYrO2bPPuJ9duzYwXPPPYdpmsybN4/zzz//iP8Ha9asoaenB6fTyTXXXMNj1scIyNi62AECuAh34QghsGIlJEPUmDW8E3yHq/SrBryvQ+3ZZ59l165duN1u/u3f/u2I56WUvPLKK+zevRur1cpll11GUVFRHCLtv1GdoP2lpTQvXUrK5s3Y6+sxXK5on3PI4eDOt97i27/9LXl5eXzlK1/hB1OmUN4nOff09LBmzRqmTZsWXTZu3DgeeeQRLBYLzc3NXH/99Zx11llYLIf/d3XPmkX3rFkx75W3Zk30bxEIYGlrQzqdtJ1zDr4S1eLoD19KCjvOOovc6mqyI1M4eVNSotM4tRQXx8wpaJomv7vzTm677TYyMzP5yU9+wowZM2K+iC+//DKnnXYa55xzDvX19fzmN79h+vTpWK1Wli1bRn19PXV1dSxwLWCBa0FMPD9t/inNRrjFLqUkRAgNjTOdZ3Kh+0Lc2uBas/WlpXSlp4f7ndva8Llc0VlgfG43u6dPx+/67D5v0zR55plnuOmmm0hPT2fVqlVMnTqVgoKC6Dovvvgip512GnPnzmX37t28/PLLfO+a78W8T4PZwEPeh6KPDWkA4BIuLrBdwEzLzEHt61CbNWsWp59+Os8888xRn9+9ezetra1885vfpLa2lpdeeokbb7xxhKMcmFF/BSuUmUl7pGVspKZiO3gQvbubgwcOUFhYyJgxY7BarSxevJh169Yd8frVq1dz/fXXY+tVtN3hcESTcaCfM26IYBBbYyO6x0PnnDk0X3wxvrIyNapjAIJOJ/WTJ7NzwQI6c3NJaWvD0dV11HX37dtHXl4eubm5WCwW5s6dy6ZNm2LWEULgi3QT+Hw+MiKTqtrtdsaPHx/zA3w0EklQBjExme2YzXdzvsvytOWk6UNwIVoIujIz2TlrFnunTUMAqW1tWPrx+du/fz/Z2dlkZ2djsViYNWsWW7dujVmnoaGBCRMmADB+/Pgjnu/NkAaGNLAJG5+3fZ6VrpXMts4eVFfOcCgrK8PZ56yjt507dzJz5kyEEJSUlODz+eg6xuco0YzqFnRvwexs2s49F1tTEymbNuFrbyc7Ozv6fF5e3hEfxh07dtDQ0MCZZ57J448/HvPcli1b+NGPfsTBgwf5/ve/f9wvLwCaht7ZSdesWXjLypBJNFNHPAXcbmqnTaO5tJS8ykqyjzJ1U1tbG5mZmdHHGRkZVFVVxayzdOlSVq1axZtvvkkgEOC222474RiEEJiYTLdP55KUS8i1DM21jCNoGp3Z2WzPzCS9uZkx+/ahG8YJvbSjoyP6owPh/wfVfbpGioqK2Lx5M2effTZbtmzB7/fT09ODu09/dkAGsAs751nPY551HlYxMiNIhkNnZydpvUZzpaWl0dnZSWrqCA2XHISkSdAACEEgL4/WRYvY2t1Ny+bNx1zVNE1WrVrFf//3f/d9AhEIcMopp/DEE09QVVXFD37wAxYsWIC918SjR9N63nkYbjfSMXRX9ZXDfCkp7J8xg8ayMkLHORZHs2HDBs6dO5eFS5ZQWVnJI488wp133ol2AhcWr0m9Bl3TKbKMTN+l1DTa8/LoyM7G3d2NfwCfKd00sZhmzLKlS5fyzDPPsGHDBioqKkhPTz9i/3NEDtfYr6HCUoFDqM9yPCVXgj5ECJzjxnHgzTejixobG8ntNYLD4/FQWVnJ17/+dSB88WTlypWs/ta3mB4I0HLxxQCUl5fjdDqprKxkypQpn7nZUK8WuzJ8fEcZ256ZmUlbr4uG7e3tMS1qgK3//Cc/O+ss6g2DiooKQqEQ3d3dMa2rYymxxecagtR1utNPbD7M9PR02tvbo4/H7d7NxD4JOj09nS9/+csA+P1+Nm/efET3gC50plqnDiruRHKoxXxI3xZ1Ihv1fdDHMmXKFGpqaqivrycYDLJ27VrOPvvs6PMpKSm89tprPPvsszz77LNMmzaNe++9l/ElJXS0tBAKhWfyPnDgANXV1RQO8K4sZWSUlpbS2NhIc3MzoVCIDRs2MGPGjJh1sjIyaKyrQxA+rsFgcFSc5p6okpISmpubaYl8fpv37mVCrwuEEL4obkaS9htvvMHcuXPjEeqImjRpEhs3bkRKSU1NDXa7fdQc9+RsQQMWi4Xbb7+d2267DdM0Wbp0KRUVFaxevZrJkyezcOHCY762pqaG/7j+eiwWC0IIVq5cGdO3pyQeXde58sor+dWvfoVpmpxxxhkUFRXx/PPPU1paysyZM7nkkkvY/eijPPGjH2FoGjfccEP0povvfve7+Hw+DMNg48aNfPOb3xw1Q7EO0XWdyy+/nN/+9rdIKfn22LGkp6fzu1dfpaSkhGnTprFnzx5eeeUVACoqKvjCF74Q56gH7+mnn2bfvn14PB5+/vOfc95552FE+u3nzp3LhAkT2L17N7/61a+wWq1ceumlcY74xAmZIMVUhBBy/fr18Q4D186duHbtovmSS0Zke/Pnzx+R7SSaBx98cMS36ejupuyTT9h1xhlxmdX75ptv5r777hux7U356COEabItzq3k22+/nbvuuiuuMcTDXXfdhZRyULddJm0Xh6IoyminErSiKEqCUglaURQlQakErSiKkqBUglYURUlQSTvMrj+0nh70nnA5Sb27GwBrY2P4SV0nqG5AGbX0YBDHoWPq9QLgamuLli71pKcjk2hSBWdPD5ZgEDg8J2Fq5OaVkNU6ZCVKlZGhEjTg3r4d9/btmA4HwjTRvF4y//EPhGkiNY2mZcuQA7i1WIm/tMZGSjdujN4abvd4KNu4EQA9FGL3/Pl4TvBOvdGgbNs2Ujo7MSwWLKEQSMmEjRvRDQNPSgpbTz893iEq/aASNOArL8e1Z88Rxfytra14x45VyXkU68zNJehw4E1JQeo6PZEbjiw+H2ganlFyR9mJaiguxrVz5xG3h6e2t9NQXBynqJSBSp5zu0EIZmcTyM9H712C0DQRwSCeiRPjF5gyaIbNRlNpKc4+5SUdHg8N48Yl3ZyR7Xl5hKxW9EipAgifKRhWK61qwohRJ7k+nYPQPW1atB8awjOD+8rKRnTSWWV4tI4ZA0IgIjUoLIEAAaeTrpycOEc29Exdp760FFek3x3A1dND/dixmCdSMldJKCpBRwRzcwnm5IQvEkqJFgzSM2lSvMNShkDI4aClpCTainZ0d3Nw3LikujjYW2tBAYbFghYKoRkGpqbR0qdokjI6JOcndCCEoPuUU9C7u7F0dOAbM4aQKpCUNFqKi9FME4vfT9DhoDOJT/cNi4UDpaW4enpwdXdzYOxYDOvoLbh/MlMJupdAfj7BjAz07m56jlP7WRldgk4nLcXFpDc301BRETNDeDJqKShACoEUgmZVKnfUUp1SvQlB98yZ2OvqVPH9JNQ8diwWv5+O/Px4hzLsQlYrdRUVCNMkpKZeG7VUgu4jUFhIQLU4klLA5WL/zMSakXo4NaphdaOe6uJQFEVJUCpBK4qiJCiVoBVFURKUStCKoigJSiVoRVGUBKUStKIoSoJSCVpRFCVBqQStKIqSoFSCVhRFSVAqQSuKoiQolaAVRVESlErQiqIoCUolaEVRlAQlZGRq9ngTQpiAiHcciqIoQ0RKKQfVCE6YBH0ihBAfSinnxDuOkXIy7e/JtK9wcu3vybSvMLT7q7o4FEVREpRK0IqiKAlqtCXo1fEOYISdTPt7Mu0rnFz7ezLtKwzh/o6qPmhFUZSTyWhrQSuKopw0EjJBCyEuEkLsFELsEUL8v6M8bxdCPBl5/n0hRFkcwhwSJ7Cv/yGE2CaE2CSE+LsQojQecQ6V4+1vr/W+KISQQohRe/X/RPZVCPGlyPHdKoT4v5GOcSidwGd5rBDiTSHEJ5HP88XxiHMoCCF+L4RoFEJsOcbzQgjxq8j/i01CiNkD2pCUMqH+ATqwF6gAbMBGYGqfdb4OPBj5+yrgyXjHPYz7eh7givx9y2jd1xPd38h6qcA6YD0wJ95xD+OxnQB8AmRGHufFO+5h3t/VwC2Rv6cC++Id9yD2dyEwG9hyjOcvBl4hfG/HfOD9gWwnEVvQpwN7pJSVUsoA8Gfg0j7rXAr8IfL308AiIcRovMnluPsqpXxTSumJPFwPFI9wjEPpRI4twA+AewDfSAY3xE5kX28E7pdStgFIKRtHOMahdCL7K4G0yN/pQP0IxjekpJTrgNbPWOVS4DEZth7IEEIU9nc7iZigxwA1vR7XRpYddR0pZQjoALJHJLqhdSL72ttXCf8qj1bH3d/IqWCJlPKlkQxsGJzIsZ0ITBRCvCOEWC+EuGjEoht6J7K/dwHXCSFqgZeBb4xMaHHR3+/2UVmGLBxlWAkhrgPmAOfEO5bhIoTQgF8AX45zKCPFQrib41zCZ0brhBDTpZTt8QxqGF0NPCql/LkQYgHwRyHEKVJKM96BJapEbEHXASW9HhdHlh11HSGEhfDpUsuIRDe0TmRfEUJ8DvgvYJmU0j9CsQ2H4+1vKnAK8JYQYh/hvrvnR+mFwhM5trXA81LKoJSyCthFOGGPRieyv18F1gBIKd8DHEDOiEQ38k7ou308iZigNwAThBDlQggb4YuAz/dZ53nghsjfVwBvyEjP/Chz3H0VQpwKPEQ4OY/mPko4zv5KKTuklDlSyjIpZRnhPvdlUsoP4xPuoJzI5/hZwq1nhBA5hLs8KkcwxqF0Ivu7H1gEIISYQjhBN41olCPneWBFZDTHfKBDSnmg3+8S76uhn3EFdBfhq8L/FVl2N+EvK4QP7FPAHuADoCLeMQ/jvv4NaAA+jfx7Pt4xD+f+9ln3LUbpKI4TPLaCcJfONmAzcFW8Yx7m/Z0KvEN4hMenwAXxjnkQ+/oEcAAIEj4T+ipwM3Bzr2N7f+T/xeaBfo7VnYSKoigJKhG7OBRFURRUglYURUlYKkEriqIkKJWgFUVREpRK0IqiKAlKJWhFUZQEpRK0oihKglIJWlEUJUGpBK0oipKgVIJWFEVJUCpBK4qiJCiVoBVFURLU/w/Sk8dj0R+7awAAAABJRU5ErkJggg==\n",
                  "text/plain": "<IPython.core.display.Image object>"
                },
                "metadata": {}
              }
            ]
          }
        },
        "3a89f5cf174e4f59bf20eb713966b1c1": {
          "model_module": "@jupyter-widgets/base",
          "model_name": "LayoutModel",
          "model_module_version": "1.2.0",
          "state": {
            "_model_module": "@jupyter-widgets/base",
            "_model_module_version": "1.2.0",
            "_model_name": "LayoutModel",
            "_view_count": null,
            "_view_module": "@jupyter-widgets/base",
            "_view_module_version": "1.2.0",
            "_view_name": "LayoutView",
            "align_content": null,
            "align_items": null,
            "align_self": null,
            "border": null,
            "bottom": null,
            "display": null,
            "flex": null,
            "flex_flow": null,
            "grid_area": null,
            "grid_auto_columns": null,
            "grid_auto_flow": null,
            "grid_auto_rows": null,
            "grid_column": null,
            "grid_gap": null,
            "grid_row": null,
            "grid_template_areas": null,
            "grid_template_columns": null,
            "grid_template_rows": null,
            "height": null,
            "justify_content": null,
            "justify_items": null,
            "left": null,
            "margin": null,
            "max_height": null,
            "max_width": null,
            "min_height": null,
            "min_width": null,
            "object_fit": null,
            "object_position": null,
            "order": null,
            "overflow": null,
            "overflow_x": null,
            "overflow_y": null,
            "padding": null,
            "right": null,
            "top": null,
            "visibility": null,
            "width": null
          }
        },
        "11fa7a2347594130a0ce59b1c000608c": {
          "model_module": "@jupyter-widgets/output",
          "model_name": "OutputModel",
          "model_module_version": "1.0.0",
          "state": {
            "_dom_classes": [],
            "_model_module": "@jupyter-widgets/output",
            "_model_module_version": "1.0.0",
            "_model_name": "OutputModel",
            "_view_count": null,
            "_view_module": "@jupyter-widgets/output",
            "_view_module_version": "1.0.0",
            "_view_name": "OutputView",
            "layout": "IPY_MODEL_a5773197e394480aa0f382749c131654",
            "msg_id": "",
            "outputs": [
              {
                "output_type": "display_data",
                "data": {
                  "image/png": "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\n",
                  "text/plain": "<IPython.core.display.Image object>"
                },
                "metadata": {}
              }
            ]
          }
        },
        "a5773197e394480aa0f382749c131654": {
          "model_module": "@jupyter-widgets/base",
          "model_name": "LayoutModel",
          "model_module_version": "1.2.0",
          "state": {
            "_model_module": "@jupyter-widgets/base",
            "_model_module_version": "1.2.0",
            "_model_name": "LayoutModel",
            "_view_count": null,
            "_view_module": "@jupyter-widgets/base",
            "_view_module_version": "1.2.0",
            "_view_name": "LayoutView",
            "align_content": null,
            "align_items": null,
            "align_self": null,
            "border": null,
            "bottom": null,
            "display": null,
            "flex": null,
            "flex_flow": null,
            "grid_area": null,
            "grid_auto_columns": null,
            "grid_auto_flow": null,
            "grid_auto_rows": null,
            "grid_column": null,
            "grid_gap": null,
            "grid_row": null,
            "grid_template_areas": null,
            "grid_template_columns": null,
            "grid_template_rows": null,
            "height": null,
            "justify_content": null,
            "justify_items": null,
            "left": null,
            "margin": null,
            "max_height": null,
            "max_width": null,
            "min_height": null,
            "min_width": null,
            "object_fit": null,
            "object_position": null,
            "order": null,
            "overflow": null,
            "overflow_x": null,
            "overflow_y": null,
            "padding": null,
            "right": null,
            "top": null,
            "visibility": null,
            "width": null
          }
        },
        "2d65a2e83aac403399b7e4011b12e651": {
          "model_module": "@jupyter-widgets/output",
          "model_name": "OutputModel",
          "model_module_version": "1.0.0",
          "state": {
            "_dom_classes": [],
            "_model_module": "@jupyter-widgets/output",
            "_model_module_version": "1.0.0",
            "_model_name": "OutputModel",
            "_view_count": null,
            "_view_module": "@jupyter-widgets/output",
            "_view_module_version": "1.0.0",
            "_view_name": "OutputView",
            "layout": "IPY_MODEL_e4dd83d3552a4c7e82438437a71eb430",
            "msg_id": "",
            "outputs": [
              {
                "output_type": "display_data",
                "data": {
                  "image/png": "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\n",
                  "text/plain": "<IPython.core.display.Image object>"
                },
                "metadata": {}
              }
            ]
          }
        },
        "e4dd83d3552a4c7e82438437a71eb430": {
          "model_module": "@jupyter-widgets/base",
          "model_name": "LayoutModel",
          "model_module_version": "1.2.0",
          "state": {
            "_model_module": "@jupyter-widgets/base",
            "_model_module_version": "1.2.0",
            "_model_name": "LayoutModel",
            "_view_count": null,
            "_view_module": "@jupyter-widgets/base",
            "_view_module_version": "1.2.0",
            "_view_name": "LayoutView",
            "align_content": null,
            "align_items": null,
            "align_self": null,
            "border": null,
            "bottom": null,
            "display": null,
            "flex": null,
            "flex_flow": null,
            "grid_area": null,
            "grid_auto_columns": null,
            "grid_auto_flow": null,
            "grid_auto_rows": null,
            "grid_column": null,
            "grid_gap": null,
            "grid_row": null,
            "grid_template_areas": null,
            "grid_template_columns": null,
            "grid_template_rows": null,
            "height": null,
            "justify_content": null,
            "justify_items": null,
            "left": null,
            "margin": null,
            "max_height": null,
            "max_width": null,
            "min_height": null,
            "min_width": null,
            "object_fit": null,
            "object_position": null,
            "order": null,
            "overflow": null,
            "overflow_x": null,
            "overflow_y": null,
            "padding": null,
            "right": null,
            "top": null,
            "visibility": null,
            "width": null
          }
        }
      }
    }
  },
  "cells": [
    {
      "cell_type": "markdown",
      "metadata": {
        "id": "pvLBhVirapw-"
      },
      "source": [
        "# Outlook #"
      ]
    },
    {
      "cell_type": "markdown",
      "metadata": {
        "id": "CDnFYaehas2B"
      },
      "source": [
        "In this colab we investigate the **value iteration** and **policy iteration** algorithms in a maze environment using the value function V and the action-value function Q."
      ]
    },
    {
      "cell_type": "markdown",
      "metadata": {
        "id": "ILQS3CjXDRO0"
      },
      "source": [
        "# Installation #"
      ]
    },
    {
      "cell_type": "code",
      "source": [
        "!pip install importlib-metadata==4.13.0"
      ],
      "metadata": {
        "id": "CCHJW9TP6E6W",
        "colab": {
          "base_uri": "https://localhost:8080/"
        },
        "outputId": "5cf4b123-8070-4432-cad2-e35ae071c228"
      },
      "execution_count": null,
      "outputs": [
        {
          "output_type": "stream",
          "name": "stdout",
          "text": [
            "Looking in indexes: https://pypi.org/simple, https://us-python.pkg.dev/colab-wheels/public/simple/\n",
            "Collecting importlib-metadata==4.13.0\n",
            "  Downloading importlib_metadata-4.13.0-py3-none-any.whl (23 kB)\n",
            "Requirement already satisfied: zipp>=0.5 in /usr/local/lib/python3.8/dist-packages (from importlib-metadata==4.13.0) (3.15.0)\n",
            "Installing collected packages: importlib-metadata\n",
            "  Attempting uninstall: importlib-metadata\n",
            "    Found existing installation: importlib-metadata 6.0.0\n",
            "    Uninstalling importlib-metadata-6.0.0:\n",
            "      Successfully uninstalled importlib-metadata-6.0.0\n",
            "Successfully installed importlib-metadata-4.13.0\n"
          ]
        }
      ]
    },
    {
      "cell_type": "code",
      "source": [
        "if get_ipython().__class__.__module__ == \"google.colab._shell\":\n",
        "    !apt-get install ffmpeg"
      ],
      "metadata": {
        "id": "bUpuvJWUdkH9",
        "colab": {
          "base_uri": "https://localhost:8080/"
        },
        "outputId": "52b818fa-8330-4a12-8490-2d8319ec8ae8"
      },
      "execution_count": null,
      "outputs": [
        {
          "output_type": "stream",
          "name": "stdout",
          "text": [
            "Reading package lists... Done\n",
            "Building dependency tree       \n",
            "Reading state information... Done\n",
            "ffmpeg is already the newest version (7:4.2.7-0ubuntu0.1).\n",
            "0 upgraded, 0 newly installed, 0 to remove and 22 not upgraded.\n"
          ]
        }
      ]
    },
    {
      "cell_type": "code",
      "metadata": {
        "id": "H6bDf5E_Hh-3",
        "colab": {
          "base_uri": "https://localhost:8080/"
        },
        "outputId": "50935baa-df3d-482a-8a72-2589949b2588"
      },
      "source": [
        "!pip install git+https://github.com/osigaud/bbrl_gym"
      ],
      "execution_count": null,
      "outputs": [
        {
          "output_type": "stream",
          "name": "stdout",
          "text": [
            "Looking in indexes: https://pypi.org/simple, https://us-python.pkg.dev/colab-wheels/public/simple/\n",
            "Collecting git+https://github.com/osigaud/bbrl_gym\n",
            "  Cloning https://github.com/osigaud/bbrl_gym to /tmp/pip-req-build-69le3bd8\n",
            "  Running command git clone --filter=blob:none --quiet https://github.com/osigaud/bbrl_gym /tmp/pip-req-build-69le3bd8\n",
            "  Resolved https://github.com/osigaud/bbrl_gym to commit 5557075ecd7d4171ac0c21be3c69a94bcae655a9\n",
            "  Installing build dependencies ... \u001b[?25l\u001b[?25hdone\n",
            "  Getting requirements to build wheel ... \u001b[?25l\u001b[?25hdone\n",
            "  Installing backend dependencies ... \u001b[?25l\u001b[?25hdone\n",
            "  Preparing metadata (pyproject.toml) ... \u001b[?25l\u001b[?25hdone\n",
            "Requirement already satisfied: numpy>=1.19.1 in /usr/local/lib/python3.8/dist-packages (from bbrl-gym==1.2.5) (1.22.4)\n",
            "Collecting swig\n",
            "  Downloading swig-4.1.1-py2.py3-none-manylinux_2_5_x86_64.manylinux1_x86_64.whl (1.8 MB)\n",
            "\u001b[2K     \u001b[90m━━━━━━━━━━━━━━━━━━━━━━━━━━━━━━━━━━━━━━━━\u001b[0m \u001b[32m1.8/1.8 MB\u001b[0m \u001b[31m20.3 MB/s\u001b[0m eta \u001b[36m0:00:00\u001b[0m\n",
            "\u001b[?25hCollecting box2d-py\n",
            "  Downloading box2d-py-2.3.8.tar.gz (374 kB)\n",
            "\u001b[2K     \u001b[90m━━━━━━━━━━━━━━━━━━━━━━━━━━━━━━━━━━━━━━\u001b[0m \u001b[32m374.5/374.5 KB\u001b[0m \u001b[31m34.0 MB/s\u001b[0m eta \u001b[36m0:00:00\u001b[0m\n",
            "\u001b[?25h  Preparing metadata (setup.py) ... \u001b[?25l\u001b[?25hdone\n",
            "Collecting mazemdp>=0.7.3\n",
            "  Downloading mazemdp-0.7.3-py3-none-any.whl (15 kB)\n",
            "Collecting gym==0.21.0\n",
            "  Downloading gym-0.21.0.tar.gz (1.5 MB)\n",
            "\u001b[2K     \u001b[90m━━━━━━━━━━━━━━━━━━━━━━━━━━━━━━━━━━━━━━━━\u001b[0m \u001b[32m1.5/1.5 MB\u001b[0m \u001b[31m48.6 MB/s\u001b[0m eta \u001b[36m0:00:00\u001b[0m\n",
            "\u001b[?25h  Preparing metadata (setup.py) ... \u001b[?25l\u001b[?25hdone\n",
            "Requirement already satisfied: cloudpickle>=1.2.0 in /usr/local/lib/python3.8/dist-packages (from gym==0.21.0->bbrl-gym==1.2.5) (2.2.1)\n",
            "Requirement already satisfied: matplotlib in /usr/local/lib/python3.8/dist-packages (from mazemdp>=0.7.3->bbrl-gym==1.2.5) (3.5.3)\n",
            "Requirement already satisfied: packaging>=20.0 in /usr/local/lib/python3.8/dist-packages (from matplotlib->mazemdp>=0.7.3->bbrl-gym==1.2.5) (23.0)\n",
            "Requirement already satisfied: python-dateutil>=2.7 in /usr/local/lib/python3.8/dist-packages (from matplotlib->mazemdp>=0.7.3->bbrl-gym==1.2.5) (2.8.2)\n",
            "Requirement already satisfied: cycler>=0.10 in /usr/local/lib/python3.8/dist-packages (from matplotlib->mazemdp>=0.7.3->bbrl-gym==1.2.5) (0.11.0)\n",
            "Requirement already satisfied: pillow>=6.2.0 in /usr/local/lib/python3.8/dist-packages (from matplotlib->mazemdp>=0.7.3->bbrl-gym==1.2.5) (8.4.0)\n",
            "Requirement already satisfied: pyparsing>=2.2.1 in /usr/local/lib/python3.8/dist-packages (from matplotlib->mazemdp>=0.7.3->bbrl-gym==1.2.5) (3.0.9)\n",
            "Requirement already satisfied: kiwisolver>=1.0.1 in /usr/local/lib/python3.8/dist-packages (from matplotlib->mazemdp>=0.7.3->bbrl-gym==1.2.5) (1.4.4)\n",
            "Requirement already satisfied: fonttools>=4.22.0 in /usr/local/lib/python3.8/dist-packages (from matplotlib->mazemdp>=0.7.3->bbrl-gym==1.2.5) (4.38.0)\n",
            "Requirement already satisfied: six>=1.5 in /usr/local/lib/python3.8/dist-packages (from python-dateutil>=2.7->matplotlib->mazemdp>=0.7.3->bbrl-gym==1.2.5) (1.15.0)\n",
            "Building wheels for collected packages: bbrl-gym, gym, box2d-py\n",
            "  Building wheel for bbrl-gym (pyproject.toml) ... \u001b[?25l\u001b[?25hdone\n",
            "  Created wheel for bbrl-gym: filename=bbrl_gym-1.2.5-py3-none-any.whl size=17599 sha256=16c9aa01d7311e4afa1a12f28bce13128c76c6622e4d7b5e37e28e603329525f\n",
            "  Stored in directory: /tmp/pip-ephem-wheel-cache-_0ky4_48/wheels/02/a5/fb/5c3661a0a660b77ec8a0dc817069457f0cc83f42b37daa0cb1\n",
            "  Building wheel for gym (setup.py) ... \u001b[?25l\u001b[?25hdone\n",
            "  Created wheel for gym: filename=gym-0.21.0-py3-none-any.whl size=1616822 sha256=9f8fb8046d7c3c1a8018b9e34500ad415ae618bf78f2da8559d8bcea652110b1\n",
            "  Stored in directory: /root/.cache/pip/wheels/27/6d/b3/a3a6e10704795c9b9000f1ab2dc480dfe7bed42f5972806e73\n",
            "  \u001b[1;31merror\u001b[0m: \u001b[1msubprocess-exited-with-error\u001b[0m\n",
            "  \n",
            "  \u001b[31m×\u001b[0m \u001b[32mpython setup.py bdist_wheel\u001b[0m did not run successfully.\n",
            "  \u001b[31m│\u001b[0m exit code: \u001b[1;36m1\u001b[0m\n",
            "  \u001b[31m╰─>\u001b[0m See above for output.\n",
            "  \n",
            "  \u001b[1;35mnote\u001b[0m: This error originates from a subprocess, and is likely not a problem with pip.\n",
            "  Building wheel for box2d-py (setup.py) ... \u001b[?25lerror\n",
            "\u001b[31m  ERROR: Failed building wheel for box2d-py\u001b[0m\u001b[31m\n",
            "\u001b[0m\u001b[?25h  Running setup.py clean for box2d-py\n",
            "Successfully built bbrl-gym gym\n",
            "Failed to build box2d-py\n",
            "Installing collected packages: swig, box2d-py, gym, mazemdp, bbrl-gym\n",
            "  Running setup.py install for box2d-py ... \u001b[?25l\u001b[?25hdone\n",
            "\u001b[33m  DEPRECATION: box2d-py was installed using the legacy 'setup.py install' method, because a wheel could not be built for it. A possible replacement is to fix the wheel build issue reported above. Discussion can be found at https://github.com/pypa/pip/issues/8368\u001b[0m\u001b[33m\n",
            "\u001b[0m  Attempting uninstall: gym\n",
            "    Found existing installation: gym 0.25.2\n",
            "    Uninstalling gym-0.25.2:\n",
            "      Successfully uninstalled gym-0.25.2\n",
            "Successfully installed bbrl-gym-1.2.5 box2d-py-2.3.8 gym-0.21.0 mazemdp-0.7.3 swig-4.1.1\n"
          ]
        }
      ]
    },
    {
      "cell_type": "code",
      "metadata": {
        "id": "PE58RHs9dEEh",
        "colab": {
          "base_uri": "https://localhost:8080/"
        },
        "outputId": "8efddf0f-dcf8-4e7b-dfcd-adef4be6531c"
      },
      "source": [
        "import os\n",
        "from typing import Tuple, List\n",
        "\n",
        "import numpy as np\n",
        "import matplotlib.pyplot as plt\n",
        "\n",
        "import gym\n",
        "import bbrl_gym\n",
        "\n",
        "from mazemdp.maze_plotter import show_videos\n",
        "from bbrl_gym.envs.maze_mdp import MazeMDPEnv\n",
        "\n",
        "# For visualization\n",
        "os.environ[\"VIDEO_FPS\"] = \"5\"\n",
        "if not os.path.isdir(\"./videos\"):\n",
        "    os.mkdir(\"./videos\")\n",
        "\n",
        "from IPython.display import Video\n",
        "from gym.wrappers.monitoring.video_recorder import VideoRecorder"
      ],
      "execution_count": null,
      "outputs": [
        {
          "output_type": "stream",
          "name": "stdout",
          "text": [
            "Matplotlib backend: module://ipykernel.pylab.backend_inline\n"
          ]
        }
      ]
    },
    {
      "cell_type": "markdown",
      "metadata": {
        "id": "Sa3oM2C1CqLl"
      },
      "source": [
        "# Agents and MDPs #"
      ]
    },
    {
      "cell_type": "markdown",
      "metadata": {
        "id": "eL3B_dpu-H-f"
      },
      "source": [
        "\n",
        "A reinforcement learning agent interacts with an environment represented as a Markov Decision Process (MDP). It is defined by a tuple $(S, A, P, r, \\gamma)$ where $S$ is the state space, $A$ is the action space, $P(state_t, action_t, state_{t+1})$ is the transition function, $r(state_t, action_t)$ is the reward function and $\\gamma \\in [0, 1]$ is the discount factor.\n",
        "\n"
      ]
    },
    {
      "cell_type": "markdown",
      "metadata": {
        "id": "A-5EU9BalMQI"
      },
      "source": [
        "In what follows we import code to create an MDP corresponding to a random maze (see https://github.com/osigaud/SimpleMazeMDP for documentation)."
      ]
    },
    {
      "cell_type": "code",
      "metadata": {
        "id": "OvSGrPnKlXxf",
        "colab": {
          "base_uri": "https://localhost:8080/",
          "height": 54,
          "referenced_widgets": [
            "6e8933385abf426b9a64ffbb54a74267",
            "ba853bbf7dea43f9ba559c51b1de954b"
          ]
        },
        "outputId": "09064382-ea01-4359-8ed6-cf348cbcad34"
      },
      "source": [
        "env = gym.make(\"MazeMDP-v0\", kwargs={\"width\": 5, \"height\": 5, \"ratio\": 0.2})\n",
        "env.reset()\n",
        "\n",
        "# in dynamic programming, there is no agent moving in the environment\n",
        "env.set_no_agent()\n",
        "env.init_draw(\"The maze\")"
      ],
      "execution_count": null,
      "outputs": [
        {
          "output_type": "display_data",
          "data": {
            "text/plain": [
              "Output()"
            ],
            "application/vnd.jupyter.widget-view+json": {
              "version_major": 2,
              "version_minor": 0,
              "model_id": "6e8933385abf426b9a64ffbb54a74267"
            }
          },
          "metadata": {}
        }
      ]
    },
    {
      "cell_type": "markdown",
      "metadata": {
        "id": "pL-L0w1ECuah"
      },
      "source": [
        "# Dynamic programming #"
      ]
    },
    {
      "cell_type": "markdown",
      "metadata": {
        "id": "jHUlXv9TCha4"
      },
      "source": [
        "\n",
        "The goal of an RL agent is to find the optimal behaviour, defined by a policy $\\pi$ that assigns an action (or distribution over actions) to each state so as to maximize the agent's total expected reward. In order to estimate how good a state is, either a state value function $V(x)$ or a state-action value function $Q(x,u)$ is used.\n",
        "\n",
        "Dynamic programming algorithms are used for planning, they require a full knowledge of the MDP from the agent (in contrast to \"true\" RL where the agent does not know the transition and reward functions).\n",
        "They find the optimal policy by computing a value function $V$ or an action-value function $Q$ over the state space or state-action space of the given MDP. **Value iteration** and **policy iteration** are two standard dynamic programming algorithms. You should study both of them using both $V$ and $Q$, as these algorithms contain the basic building blocks for most RL algorithms.\n"
      ]
    },
    {
      "cell_type": "markdown",
      "metadata": {
        "id": "LTW9XJD8DjsD"
      },
      "source": [
        "## Value Iteration ##"
      ]
    },
    {
      "cell_type": "markdown",
      "metadata": {
        "id": "jpjrIBqEDmyl"
      },
      "source": [
        "### Value Iteration with the V function ###\n"
      ]
    },
    {
      "cell_type": "markdown",
      "metadata": {
        "id": "8eSkbueDDrw2"
      },
      "source": [
        "\n",
        "When using the $V$ function, **value iteration** aims at finding the optimal values $V^*$ based on the Bellman Optimality Equation:\n",
        "$$V^*(s) = \\max_a \\big[ r(s,a) + \\gamma \\sum_{y \\in S} P(s,a,y)V^*(y) \\big],$$\n",
        "\n",
        "where:\n",
        "\n",
        "*   $r(s, a)$ is the reward obtained from taking action $a$ in state $s$,\n",
        "*   $P(s, a, y)$ is the probability of reaching state $y$ when taking action $a$ in state $s$, \n",
        "*   $\\gamma \\in [0,1]$ is a discount factor defining the relative importance of long term rewards over short term ones (the closer to 0, the more the agent focuses on immediate rewards).\n",
        "\n",
        "In practice, we start with an initial value function $V^0$ (for instance, the values of all states are 0), and then we iterate for all states $s$\n",
        "\n",
        "$$V^{i+1}(s) = \\max_a \\big[ r(s,a) + \\gamma \\sum_{y \\in S} P(s,a,y)V^i(y) \\big],$$\n",
        "\n",
        "until the values converge, that is $\\forall s, V^{i+1}(s) \\approx V^i(s)$. It is shown that at convergence, $\\forall s, V^i(s)= V^*(s)$."
      ]
    },
    {
      "cell_type": "markdown",
      "metadata": {
        "id": "8cwhDCVznRfx"
      },
      "source": [
        "To visualize the policy obtained from **value iteration**, we need to first define the `get_policy_from_V()` function"
      ]
    },
    {
      "cell_type": "code",
      "metadata": {
        "id": "uLJ6ccP0aNpR"
      },
      "source": [
        "def get_policy_from_v(mdp: MazeMDPEnv, v: np.ndarray) -> np.ndarray:\n",
        "    # Outputs a policy given the state values\n",
        "    policy = np.zeros(mdp.nb_states)  # initial state values are set to 0\n",
        "    for x in range(mdp.nb_states):  # for each state x\n",
        "        if x not in mdp.terminal_states:  # si ce n'est pas un état but\n",
        "            # Compute the value of the state x for each action u of the MDP action space\n",
        "            v_temp = []\n",
        "            for u in range(mdp.action_space.n):   # pour chaque action\n",
        "                # Process sum of the values of the neighbouring states\n",
        "                summ = 0\n",
        "                for y in range(mdp.nb_states):    # pour chaque état\n",
        "                    summ = summ + mdp.P[x, u, y] * v[y]\n",
        "                v_temp.append(mdp.r[x, u] + mdp.gamma * summ)\n",
        "            policy[x] = np.argmax(v_temp)\n",
        "    return policy\n",
        "\n",
        "## pourquoi recalculer un v_temp si on fourni v en paramètre\n",
        "## + v est déja calculé précédement dans la methode value_iteration_v ?\n",
        "## + on appelle cette fonction une fois qu'on a estimé que v convergeait, pourquoi calculer une nouvelle itération ?"
      ],
      "execution_count": null,
      "outputs": []
    },
    {
      "cell_type": "markdown",
      "metadata": {
        "id": "pX2cGPT9nNga"
      },
      "source": [
        "\n",
        "The `value_iteration_v(mdp)` function below provides the code of **value iteration** using the $V$ function. It is given as an example from which you can derive other instances of dynamic programming algorithms. Look at it more closely, this will help for later questions:\n",
        "\n",
        "* you can ignore the `mdp.new_render()` and `mdp.render(...)` functions which are here to provide the visualization of the iterations.\n",
        "* find in the code the loop over states, the main loop that performs these updates until the values don't change significantly anymore, the main update equation. Found them? OK, you can continue...\n"
      ]
    },
    {
      "cell_type": "code",
      "metadata": {
        "id": "FUurUq7val7K"
      },
      "source": [
        "# ----------------- Value Iteration with the V function ----------------------#\n",
        "# Given a MDP, this algorithm computes the optimal state value function V\n",
        "# It then derives the optimal policy based on this function\n",
        "# This function is given\n",
        "\n",
        "def value_iteration_v(mdp: MazeMDPEnv, render: bool = True) -> Tuple[np.ndarray, List[float], int]:\n",
        "    # Value Iteration using the state value v\n",
        "    v = np.zeros(mdp.nb_states)  # initial state values are set to 0\n",
        "    v_list = []\n",
        "    stop = False\n",
        "    count = 0\n",
        "\n",
        "    video_recorder = VideoRecorder(mdp, \"videos/ValueIterationV.mp4\", enabled=render)\n",
        "    mdp.set_title(\"Value iteration V\")\n",
        "    if render:\n",
        "        mdp.render()\n",
        "        video_recorder.capture_frame()\n",
        "    mdp.set_render_func(mdp.draw_v, lambda draw: draw(v))\n",
        "\n",
        "    while not stop:\n",
        "        v_old = v.copy()\n",
        "        if render:\n",
        "            mdp.render()\n",
        "            video_recorder.capture_frame()\n",
        "\n",
        "        for x in range(mdp.nb_states):  # for each state x\n",
        "            # Compute the value of the state x for each action u of the MDP action space\n",
        "            if x not in mdp.terminal_states:\n",
        "                v_temp = []\n",
        "                for u in range(mdp.action_space.n):\n",
        "                    # Process sum of the values of the neighbouring states\n",
        "                    summ = 0\n",
        "                    for y in range(mdp.nb_states):\n",
        "                        summ = summ + mdp.P[x, u, y] * v_old[y]\n",
        "                    v_temp.append(mdp.r[x, u] + mdp.gamma * summ)\n",
        "\n",
        "                # Select the highest state value among those computed\n",
        "                v[x] = np.max(v_temp)\n",
        "                count += 1\n",
        "\n",
        "        # Test if convergence has been reached\n",
        "        if (np.linalg.norm(v - v_old)) < 0.01:\n",
        "            stop = True\n",
        "        v_list.append(np.linalg.norm(v))\n",
        "\n",
        "    if render:\n",
        "        policy = get_policy_from_v(mdp, v)\n",
        "        mdp.set_render_func(mdp.draw_v_pi, lambda draw: draw(v, policy))\n",
        "        mdp.render()\n",
        "        video_recorder.capture_frame()\n",
        "\n",
        "\n",
        "    video_recorder.close()\n",
        "    return v, v_list, count\n"
      ],
      "execution_count": null,
      "outputs": []
    },
    {
      "cell_type": "markdown",
      "metadata": {
        "id": "o9eR8ClAmsGH"
      },
      "source": [
        "Let us run it on the previously defined MDP"
      ]
    },
    {
      "cell_type": "code",
      "metadata": {
        "id": "2PTk3t-tmoE4",
        "colab": {
          "base_uri": "https://localhost:8080/",
          "height": 54,
          "referenced_widgets": [
            "eed84564260a4153851e65cc92a101e4",
            "1e957f1151654b03be0ffa245baf2788"
          ]
        },
        "outputId": "e672abf7-014c-4137-9076-89ffb73038c8"
      },
      "source": [
        "v, v_list, _ = value_iteration_v(env, render=True)"
      ],
      "execution_count": null,
      "outputs": [
        {
          "output_type": "display_data",
          "data": {
            "text/plain": [
              "Output()"
            ],
            "application/vnd.jupyter.widget-view+json": {
              "version_major": 2,
              "version_minor": 0,
              "model_id": "eed84564260a4153851e65cc92a101e4"
            }
          },
          "metadata": {}
        }
      ]
    },
    {
      "cell_type": "code",
      "metadata": {
        "id": "gQI6BSI99CxZ",
        "colab": {
          "base_uri": "https://localhost:8080/",
          "height": 37
        },
        "outputId": "353e9525-2e36-4a3f-9614-8ebc42e34061"
      },
      "source": [
        "show_videos(\"videos/\", prefix=\"ValueiterationV\")"
      ],
      "execution_count": null,
      "outputs": [
        {
          "output_type": "display_data",
          "data": {
            "text/plain": [
              "<IPython.core.display.HTML object>"
            ],
            "text/html": []
          },
          "metadata": {}
        }
      ]
    },
    {
      "cell_type": "markdown",
      "metadata": {
        "id": "MdWqPhuHE8cd"
      },
      "source": [
        "### Value iteration with the $Q$ function ###"
      ]
    },
    {
      "cell_type": "markdown",
      "metadata": {
        "id": "K09BVcjDFTSZ"
      },
      "source": [
        "\n",
        "The state-action value function $Q^{\\pi}(s,a)$ defines the value of being in state $s$, taking action $a$ then following policy $\\pi$. The Bellman Optimality Equation for $Q^*$ is\n",
        "$$ Q^*(s,a) =  r(s,a) + \\gamma \\sum_{y} P(s,a,y) \\max_{a'}Q^*(y,a'). $$ \n"
      ]
    },
    {
      "cell_type": "markdown",
      "metadata": {
        "id": "ga2GQ666FZLv"
      },
      "source": [
        "**Question:** By taking inspiration from the `value_iteration_v(mdp)` function above, fill the blank (given with '\\#Q[x,u]=...') in the code of `value_iteration_q(mdp)`."
      ]
    },
    {
      "cell_type": "code",
      "metadata": {
        "id": "TnL0la4Vatk0"
      },
      "source": [
        "# ------------------ Value Iteration with the Q function ---------------------#\n",
        "# Given a MDP, this algorithm computes the optimal action value function Q\n",
        "# It then derives the optimal policy based on this function\n",
        "\n",
        "def value_iteration_q(mdp: MazeMDPEnv, render: bool = True) -> Tuple[np.ndarray, List[float], int]:\n",
        "    q = np.zeros((mdp.nb_states, mdp.action_space.n))  # initial action values are set to 0\n",
        "    q_list = []\n",
        "    stop = False\n",
        "    count = 0\n",
        "\n",
        "    if render:\n",
        "        mdp.init_draw(\"Value iteration Q\")\n",
        "\n",
        "    while not stop:\n",
        "        qold = q.copy()\n",
        "\n",
        "        if render:\n",
        "            mdp.draw_v(q, title=\"Value iteration Q\")\n",
        "\n",
        "        for x in range(mdp.nb_states):\n",
        "            if x not in mdp.terminal_states:\n",
        "                for u in range(mdp.action_space.n):\n",
        "                    summ = 0\n",
        "                    for y in range(mdp.nb_states):\n",
        "                        summ += mdp.P[x, u, y] * np.max(qold[y, :])\n",
        "                        \n",
        "                    # To be completed...  \n",
        "                    q[x,u] = mdp.r[x, u] + mdp.gamma * summ\n",
        "                    count += 1\n",
        "\n",
        "        if (np.linalg.norm(q - qold)) <= 0.01:\n",
        "            stop = True\n",
        "        q_list.append(np.linalg.norm(q))\n",
        "\n",
        "    if render:\n",
        "        mdp.draw_v(q, title=\"Value iteration Q\")\n",
        "        mdp.mdp.plotter.video_writer.release()\n",
        "\n",
        "    return q, q_list, count\n"
      ],
      "execution_count": null,
      "outputs": []
    },
    {
      "cell_type": "markdown",
      "metadata": {
        "id": "_RrcM7TkoPos"
      },
      "source": [
        "Once you are done, run it."
      ]
    },
    {
      "cell_type": "code",
      "metadata": {
        "id": "JVLEEwPwoUee",
        "colab": {
          "base_uri": "https://localhost:8080/",
          "height": 54,
          "referenced_widgets": [
            "1d47a8ef3d1441ad90338adf6d53e436",
            "3a89f5cf174e4f59bf20eb713966b1c1"
          ]
        },
        "outputId": "95c8d138-749b-4f0d-d55a-2ab3528eac50"
      },
      "source": [
        "q, q_list, _ = value_iteration_q(env, render=True)"
      ],
      "execution_count": null,
      "outputs": [
        {
          "output_type": "display_data",
          "data": {
            "text/plain": [
              "Output()"
            ],
            "application/vnd.jupyter.widget-view+json": {
              "version_major": 2,
              "version_minor": 0,
              "model_id": "1d47a8ef3d1441ad90338adf6d53e436"
            }
          },
          "metadata": {}
        }
      ]
    },
    {
      "cell_type": "code",
      "metadata": {
        "id": "8ngkVo-y9gCG",
        "colab": {
          "base_uri": "https://localhost:8080/",
          "height": 459
        },
        "outputId": "da0f4c46-0d96-4998-8c17-929efa5e4d67"
      },
      "source": [
        "show_videos(\"videos/\", prefix=\"ValueiterationQ\")"
      ],
      "execution_count": null,
      "outputs": [
        {
          "output_type": "stream",
          "name": "stdout",
          "text": [
            "Converting videos/ValueiterationQ.avi\n"
          ]
        },
        {
          "output_type": "display_data",
          "data": {
            "text/plain": [
              "<IPython.core.display.HTML object>"
            ],
            "text/html": [
              "<video alt=\"videos/ValueiterationQ.mp4\" autoplay\n",
              "                    loop controls style=\"height: 400px;\">\n",
              "                    <source src=\"data:video/mp4;base64,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\" type=\"video/mp4\" />\n",
              "                </video>"
            ]
          },
          "metadata": {}
        }
      ]
    },
    {
      "cell_type": "markdown",
      "metadata": {
        "id": "BN6zdsd9F_dn"
      },
      "source": [
        "## Policy Iteration ##"
      ]
    },
    {
      "cell_type": "markdown",
      "metadata": {
        "id": "1R1x-PDzGH_5"
      },
      "source": [
        "\n",
        "The **policy iteration** algorithm is more complicated than **value iteration**.\n",
        "Given a MDP and a policy $\\pi$, **policy iteration** iterates the following steps: \n",
        "\n",
        "*   Evaluate policy $\\pi$: compute $V$ or $Q$ based on the policy $\\pi$;\n",
        "*   Improve policy $\\pi$: compute a better policy based on $V$ or $Q$.\n",
        "\n",
        "This process is repeated until convergence, i.e. when the policy cannot be improved anymore.\n"
      ]
    },
    {
      "cell_type": "markdown",
      "metadata": {
        "id": "XiiWPQO2GlKy"
      },
      "source": [
        "### Policy iteration with the $V$ function ###"
      ]
    },
    {
      "cell_type": "markdown",
      "metadata": {
        "id": "4L0IiPkNGryB"
      },
      "source": [
        "When using $V$, $V^{\\pi}(s)$ is the expected return when starting from state $s$ and following policy $\\pi$. It is processed based on the Bellman Optimality Equation for deterministic policies:\n",
        "\n",
        "$$V^\\pi(s) = r(s, \\pi(s)) + \\gamma \\sum_{y \\in S}P(s, \\pi(s), y)V^\\pi(y),$$\n",
        "\n",
        "\n",
        "where:\n",
        "\n",
        "*   $\\pi$ is a deterministic policy, meaning that in a state $s$, the agent always selects the same action,\n",
        "*   $V^\\pi(y)$ is the value of the state $y$ under policy $\\pi$.\n",
        "\n",
        "\n",
        "Thus, given a policy $\\pi$, one must first compute its value function $V^\\pi(s)$ for all states $s$ iterating the Bellman Optimality Equation until convergence, that is using **value iteration**.\n",
        "Then, one must determine if policy $\\pi$ can be improved based on $V$. For that, in each state $s$, one can compute the Q-value $Q(s,a)$ of applying action $a$ and then following policy $\\pi$ based on the just computed $V^\\pi$, and replace the action $\\pi(s)$ with $\\arg\\max_a Q(s,a)$.\n"
      ]
    },
    {
      "cell_type": "markdown",
      "metadata": {
        "id": "1ifSjTGpJsBd"
      },
      "source": [
        "\n",
        "In order to facilitate the coding of **policy iteration** algorithms, we first define a set of useful functions.\n",
        "\n",
        "The `improve_policy_from_v(mdp, v, policy)` function is very similar to the `get_policy_from_v(v)` function which was given above. The main difference is that it takes a policy as argument and improves this policy when possible, thus is is more in the spirit of the `policy improvement` step of **policy iteration**. But both functions can be used interchangeably.\n",
        "\n",
        "The functions `evaluate_one_step_v(mdp, v, policy)`, where `mdp` is a given MDP, `v` is some value function in this MDP and `policy` is some policy and the function `evaluate_v(mdp, policy)` are also given. These functions are used to build the value function $V^\\pi$ corresponding to policy $\\pi$.\n"
      ]
    },
    {
      "cell_type": "code",
      "metadata": {
        "id": "WTHPccOTaTMM"
      },
      "source": [
        "def improve_policy_from_v(mdp: MazeMDPEnv, v: np.ndarray, policy: np.ndarray) -> Tuple[np.ndarray,int]:\n",
        "    # Improves a policy given the state values\n",
        "    count = 0\n",
        "\n",
        "    for x in range(mdp.nb_states):  # for each state x\n",
        "        # Compute the value of the state x for each action u of the MDP action space\n",
        "        if x not in mdp.terminal_states:\n",
        "            v_temp = np.zeros(mdp.action_space.n)\n",
        "            for u in range(mdp.action_space.n):\n",
        "                # Process sum of the values of the neighbouring states\n",
        "                summ = 0\n",
        "                for y in range(mdp.nb_states):\n",
        "                    summ = summ + mdp.P[x, u, y] * v[y]\n",
        "                v_temp[u] = mdp.r[x, u] + mdp.gamma * summ\n",
        "                count += 1\n",
        "\n",
        "            #for u in range(mdp.action_space.n):\n",
        "                if v_temp[u] > v_temp[policy[x]]:\n",
        "                    policy[x] = u\n",
        "    \n",
        "    return policy, count"
      ],
      "execution_count": null,
      "outputs": []
    },
    {
      "cell_type": "code",
      "metadata": {
        "id": "gTFXjB2laYEt"
      },
      "source": [
        "def evaluate_one_step_v(mdp: MazeMDPEnv, v: np.ndarray, policy: np.ndarray) -> Tuple[np.ndarray,int]:\n",
        "    # Outputs the state value function after one step of policy evaluation\n",
        "    # Corresponds to one application of the Bellman Operator\n",
        "    v_new = np.zeros(mdp.nb_states)  # initial state values are set to 0\n",
        "    count = 0\n",
        "\n",
        "    for x in range(mdp.nb_states):  # for each state x\n",
        "        # Compute the value of the state x for each action u of the MDP action space\n",
        "        if x not in mdp.terminal_states:\n",
        "            # Process sum of the values of the neighbouring states\n",
        "            summ = 0\n",
        "            for y in range(mdp.nb_states):\n",
        "                summ = summ + mdp.P[x, policy[x], y] * v[y]\n",
        "            v_new[x] = mdp.r[x, policy[x]] + mdp.gamma * summ\n",
        "            count += 1\n",
        "            \n",
        "    return v_new, count"
      ],
      "execution_count": null,
      "outputs": []
    },
    {
      "cell_type": "code",
      "metadata": {
        "id": "8gb9BGM1aa7p"
      },
      "source": [
        "def evaluate_v(mdp: MazeMDPEnv, policy: np.ndarray) -> Tuple[np.ndarray,int]:\n",
        "    # Outputs the state value function of a policy\n",
        "    v = np.zeros(mdp.nb_states)  # initial state values are set to 0\n",
        "    stop = False\n",
        "    count = 0\n",
        "\n",
        "    while not stop:\n",
        "        vold = v.copy()\n",
        "        v, c = evaluate_one_step_v(mdp, vold, policy)\n",
        "        count += c\n",
        "\n",
        "        # Test if convergence has been reached\n",
        "        if (np.linalg.norm(v - vold)) < 0.01:\n",
        "            stop = True\n",
        "    return v, count"
      ],
      "execution_count": null,
      "outputs": []
    },
    {
      "cell_type": "markdown",
      "metadata": {
        "id": "xpvHat5dqAvl"
      },
      "source": [
        "To perform **policy iteration** we also need an initial random policy."
      ]
    },
    {
      "cell_type": "code",
      "metadata": {
        "id": "E2E3k7-vdV81"
      },
      "source": [
        "from mazemdp import random_policy"
      ],
      "execution_count": null,
      "outputs": []
    },
    {
      "cell_type": "markdown",
      "metadata": {
        "id": "g6gyHWWoMF4i"
      },
      "source": [
        "**Question:** By using the above functions, fill the code of the `policy_iteration_v(mdp)` function below."
      ]
    },
    {
      "cell_type": "code",
      "metadata": {
        "id": "XR3FHBGZa5qp"
      },
      "source": [
        "# ---------------- Policy Iteration with the V function -----------------#\n",
        "# Given an MDP, this algorithm simultaneously computes \n",
        "# the optimal state value function V and the optimal policy\n",
        "\n",
        "def policy_iteration_v(mdp: MazeMDPEnv, render: bool = True) -> Tuple[np.ndarray, List[float], int]:\n",
        "    # policy iteration over the v function\n",
        "    v = np.zeros(mdp.nb_states)  # initial state values are set to 0\n",
        "    v_list = []\n",
        "    policy = random_policy(mdp)\n",
        "    count = 0\n",
        "\n",
        "    stop = False\n",
        "\n",
        "    if render:\n",
        "        mdp.init_draw(\"Policy iteration V\")\n",
        "\n",
        "    while not stop:\n",
        "        vold = v.copy()\n",
        "        # Step 1 : Policy Evaluation\n",
        "        # To be completed...  \n",
        "        v, c1 = evaluate_v(mdp, policy)\n",
        "        count += c1\n",
        "\n",
        "        if render:\n",
        "            mdp.draw_v_pi(v, policy, title=\"Policy iteration V\")\n",
        "\n",
        "        # Step 2 : Policy Improvement\n",
        "        # To be completed...  \n",
        "        policy, c2 = improve_policy_from_v(mdp, v, policy)\n",
        "        count += c2    #compteur\n",
        "\n",
        "        # Check convergence\n",
        "        if (np.linalg.norm(v - vold)) < 0.01:\n",
        "            stop = True\n",
        "        v_list.append(np.linalg.norm(v))\n",
        "\n",
        "    if render:\n",
        "        mdp.draw_v_pi(v, policy, title=\"Policy iteration V\")\n",
        "        mdp.mdp.plotter.video_writer.release()\n",
        "\n",
        "    return v, v_list, count"
      ],
      "execution_count": null,
      "outputs": []
    },
    {
      "cell_type": "markdown",
      "metadata": {
        "id": "sNCykfE9qKlH"
      },
      "source": [
        "And finally run it."
      ]
    },
    {
      "cell_type": "code",
      "metadata": {
        "id": "fxzgX6UFqOcX",
        "colab": {
          "base_uri": "https://localhost:8080/",
          "height": 54,
          "referenced_widgets": [
            "11fa7a2347594130a0ce59b1c000608c",
            "a5773197e394480aa0f382749c131654"
          ]
        },
        "outputId": "683c3af5-e2d4-4fa2-a3fe-0aa96c5d6d81"
      },
      "source": [
        "v, v_list, _ = policy_iteration_v(env, render=True)"
      ],
      "execution_count": null,
      "outputs": [
        {
          "output_type": "display_data",
          "data": {
            "text/plain": [
              "Output()"
            ],
            "application/vnd.jupyter.widget-view+json": {
              "version_major": 2,
              "version_minor": 0,
              "model_id": "11fa7a2347594130a0ce59b1c000608c"
            }
          },
          "metadata": {}
        }
      ]
    },
    {
      "cell_type": "markdown",
      "metadata": {
        "id": "f64zjARKIT7s"
      },
      "source": [
        "### Policy iteration with the $Q$ function ###"
      ]
    },
    {
      "cell_type": "markdown",
      "metadata": {
        "id": "hfOgv6znIbF6"
      },
      "source": [
        "\n",
        "The **policy iteration** algorithm with the $Q$ function is the same as with the $V$ function, but the policy improvement step is more straightforward.\n",
        "\n",
        "When using $Q$, the Bellman Optimality Equation with deterministic policy $\\pi$ for $Q$ becomes: \n",
        "$$Q^{\\pi}(s,a) = r(s,a) + \\gamma \\sum_{y \\in S}P(s,a,y)Q^{\\pi}(y,\\pi(y)).$$\n",
        "\n",
        "The policy can then be updated as follows:\n",
        "$$\\pi^{(t+1)}(s) = \\arg\\max_aQ^{\\pi^{(t)}}(s,a).$$\n"
      ]
    },
    {
      "cell_type": "markdown",
      "metadata": {
        "id": "_S-sF4ynqlUF"
      },
      "source": [
        "First, we need to determine a policy from the $Q$ function."
      ]
    },
    {
      "cell_type": "markdown",
      "metadata": {
        "id": "vDeb82mSJ2gJ"
      },
      "source": [
        "**Question:**  fill the `get_policy_from_q(q)` function, where $q$ is the state-action value function."
      ]
    },
    {
      "cell_type": "code",
      "metadata": {
        "id": "rfNl_xDlSYIy"
      },
      "source": [
        "def get_policy_from_q(q: np.ndarray) -> np.ndarray:\n",
        "    # Outputs a policy given the action values\n",
        "    # To be completed...  \n",
        "    policy = np.argmax(q, axis=1)\n",
        "    return policy"
      ],
      "execution_count": null,
      "outputs": []
    },
    {
      "cell_type": "markdown",
      "metadata": {
        "id": "4F_ueGD5K4jI"
      },
      "source": [
        "**Question:** By drawing inspiration on the functions give with the $v$ function, fill the code of the `evaluate_one_step_q(mdp, q, policy)` function below, where $q$ is some action value function, and the `evaluate_q(mdp, policy)` function."
      ]
    },
    {
      "cell_type": "code",
      "metadata": {
        "id": "7zSOoqvJafLo"
      },
      "source": [
        "def evaluate_one_step_q(mdp: MazeMDPEnv, q: np.ndarray, policy: np.ndarray) -> Tuple[np.ndarray,int]:\n",
        "    # Outputs the state value function after one step of policy evaluation\n",
        "    qnew = np.zeros((mdp.nb_states, mdp.action_space.n))  # initial action values are set to 0\n",
        "    count = 0\n",
        "\n",
        "    for x in range(mdp.nb_states):  # for each state x\n",
        "        # Compute the value of the state x for each action u of the MDP action space\n",
        "        if x not in mdp.terminal_states:\n",
        "            for u in range(mdp.action_space.n):\n",
        "                # Process sum of the values of the neighbouring states\n",
        "                summ = 0\n",
        "                for y in range(mdp.nb_states):\n",
        "                    # To be completed...\n",
        "                    summ += mdp.P[x, u, y] * q[y, policy[y]]\n",
        "                    \n",
        "                # To be completed...  \n",
        "                qnew[x, u] = mdp.r[x, u] + mdp.gamma * summ\n",
        "                count += 1    # compte les modifications élémentaires\n",
        "\n",
        "    return qnew, count"
      ],
      "execution_count": null,
      "outputs": []
    },
    {
      "cell_type": "code",
      "metadata": {
        "id": "Phlt5QfbaiWw"
      },
      "source": [
        "def evaluate_q(mdp: MazeMDPEnv, policy: np.ndarray) -> Tuple[np.ndarray, int]:\n",
        "    # Outputs the state value function of a policy\n",
        "    q = np.zeros((mdp.nb_states, mdp.action_space.n))  # initial action values are set to 0\n",
        "    stop = False\n",
        "    count = 0\n",
        "\n",
        "    while not stop:\n",
        "        qold = q.copy()\n",
        "        \n",
        "        # To be completed...  \n",
        "        q, c = evaluate_one_step_q(mdp, qold, policy)\n",
        "        count += c    # compteur\n",
        "\n",
        "        # Test if convergence has been reached\n",
        "        if (np.linalg.norm(q - qold)) < 0.01:\n",
        "            stop = True\n",
        "    return q, count"
      ],
      "execution_count": null,
      "outputs": []
    },
    {
      "cell_type": "markdown",
      "metadata": {
        "id": "pO99FFnqL51O"
      },
      "source": [
        "**Question:** By using the above functions, fill the code of the `policy_iteration_q(mdp)` function below."
      ]
    },
    {
      "cell_type": "code",
      "metadata": {
        "id": "kM5vOv5XazEq"
      },
      "source": [
        "# ---------------- Policy Iteration with the Q function -----------------#\n",
        "# Given a MDP, this algorithm simultaneously computes \n",
        "# the optimal action value function Q and the optimal policy\n",
        "\n",
        "def policy_iteration_q(mdp: MazeMDPEnv, render: bool = True) -> Tuple[np.ndarray, List[float], int, int]:\n",
        "    \"\"\"policy iteration over the q function.\"\"\"\n",
        "    q = np.zeros((mdp.nb_states, mdp.action_space.n))  # initial action values are set to 0\n",
        "    q_list = []\n",
        "    policy = random_policy(mdp)\n",
        "    count_upd = 0\n",
        "    count_it = 0\n",
        "\n",
        "    stop = False\n",
        "\n",
        "    if render:\n",
        "        mdp.init_draw(\"Policy iteration Q\")\n",
        "\n",
        "    while not stop:\n",
        "        count_it += 1\n",
        "        qold = q.copy()\n",
        "\n",
        "        if render:\n",
        "            mdp.draw_v(q, title=\"Policy iteration Q\")\n",
        "\n",
        "        # Step 1 : Policy evaluation\n",
        "        # To be completed...  \n",
        "        q, c = evaluate_q(mdp, policy)\n",
        "\n",
        "        count_upd += c  # compteur\n",
        "\n",
        "        # Step 2 : Policy improvement\n",
        "        # To be completed...  \n",
        "        policy = get_policy_from_q(q)\n",
        "\n",
        "        # Check convergence\n",
        "        if (np.linalg.norm(q - qold)) <= 0.01:\n",
        "            stop = True\n",
        "        q_list.append(np.linalg.norm(q))\n",
        "\n",
        "        count_it +=1\n",
        "\n",
        "    if render:\n",
        "        mdp.draw_v_pi(q, get_policy_from_q(q), title=\"Policy iteration Q\")\n",
        "    return q, q_list, count_upd, count_it\n"
      ],
      "execution_count": null,
      "outputs": []
    },
    {
      "cell_type": "markdown",
      "metadata": {
        "id": "XR999T8Hq1c8"
      },
      "source": [
        "Finally, run it."
      ]
    },
    {
      "cell_type": "code",
      "metadata": {
        "id": "jJ9YfuNEq43H",
        "colab": {
          "base_uri": "https://localhost:8080/",
          "height": 54,
          "referenced_widgets": [
            "2d65a2e83aac403399b7e4011b12e651",
            "e4dd83d3552a4c7e82438437a71eb430"
          ]
        },
        "outputId": "b1de195c-7f53-487a-9ec4-3c3216b4baf3"
      },
      "source": [
        "q, q_list, _, _ = policy_iteration_q(env, render=True)"
      ],
      "execution_count": null,
      "outputs": [
        {
          "output_type": "display_data",
          "data": {
            "text/plain": [
              "Output()"
            ],
            "application/vnd.jupyter.widget-view+json": {
              "version_major": 2,
              "version_minor": 0,
              "model_id": "2d65a2e83aac403399b7e4011b12e651"
            }
          },
          "metadata": {}
        }
      ]
    },
    {
      "cell_type": "markdown",
      "metadata": {
        "id": "edD-FVlaLvnK"
      },
      "source": [
        "### Study part: Experimental comparisons"
      ]
    },
    {
      "cell_type": "markdown",
      "metadata": {
        "id": "RSnI34THM4Af"
      },
      "source": [
        "We will now compare the efficiency of the various dynamic programming methods using either the $V$ or the  $Q$ functions.\n",
        "\n",
        "In all your dymanic programming functions, add code to count the number of iterations and the number of elementary $V$ or $Q$ updates. Use the provided `mazemdp.Chrono` class to measure the time taken. You may generate various mazes of various sizes to figure out the influence of the maze topology.\n",
        "\n",
        "Build a table where you compare the various dymanic programming functions in terms of iterations, elementary operations and time taken.\n",
        "\n",
        "You can run the `plot_convergence_vi_pi(...)` function provided below to visualize the convergence of the various algorithms.\n"
      ]
    },
    {
      "cell_type": "code",
      "metadata": {
        "id": "NkfRPpT6a7D6"
      },
      "source": [
        "# ---- plot learning curves of value iteration and policy iteration using V and Q -----#\n",
        "def plot_convergence_vi_pi(env, render):\n",
        "    v, v_list1, count_upd_v1 = value_iteration_v(env, render)\n",
        "    q, q_list1, count_upd_q1 = value_iteration_q(env, render)\n",
        "    v, v_list2, count_upd_v2 = policy_iteration_v(env, render)\n",
        "    q, q_list2, count_upd_q2, count_it_q2 = policy_iteration_q(env, render)\n",
        "\n",
        "    plt.plot(range(len(v_list1)), v_list1, label='value_iteration_v')\n",
        "    plt.plot(range(len(q_list1)), q_list1, label='value_iteration_q')\n",
        "    plt.plot(range(len(v_list2)), v_list2, label='policy_iteration_v')\n",
        "    plt.plot(range(len(q_list2)), q_list2, label='policy_iteration_q')\n",
        "\n",
        "    plt.xlabel('Number of episodes')\n",
        "    plt.ylabel('Norm of V or Q value')\n",
        "    plt.legend(loc='upper right')\n",
        "    plt.savefig(\"comparison_DP.png\")\n",
        "    plt.title(\"Comparison of convergence rates\")\n",
        "    plt.show()\n",
        "\n",
        "    print(count_upd_v1, count_upd_q1, count_upd_v2, count_upd_q2)"
      ],
      "execution_count": null,
      "outputs": []
    },
    {
      "cell_type": "code",
      "source": [
        "ratios = np.linspace(0, 1, 11)      # pour tester différentes topologies"
      ],
      "metadata": {
        "id": "Akr_BF7J2lQs"
      },
      "execution_count": null,
      "outputs": []
    },
    {
      "cell_type": "markdown",
      "metadata": {
        "id": "nTOUNa1IMb6G"
      },
      "source": [
        "**Question:** Run the code below and visualize the results of the different algorithms"
      ]
    },
    {
      "cell_type": "code",
      "metadata": {
        "id": "zBrTUnLMopHk",
        "colab": {
          "base_uri": "https://localhost:8080/",
          "height": 312
        },
        "outputId": "8ce83f0a-3a6f-4d33-ab63-591fcc5d6b89"
      },
      "source": [
        "plot_convergence_vi_pi(env, False)\n"
      ],
      "execution_count": null,
      "outputs": [
        {
          "output_type": "display_data",
          "data": {
            "text/plain": [
              "<Figure size 432x288 with 1 Axes>"
            ],
            "image/png": "[encoded data removed]"
          },
          "metadata": {
            "needs_background": "light"
          }
        },
        {
          "output_type": "stream",
          "name": "stdout",
          "text": [
            "220 960 2100 6320\n"
          ]
        }
      ]
    },
    {
      "cell_type": "markdown",
      "metadata": {
        "id": "S9LttlIXsB9o"
      },
      "source": [
        "\n",
        "Given the results above, discuss the relative computational efficiency of these methods."
      ]
    },
    {
      "cell_type": "code",
      "source": [
        "# Quel est exactement une update élementaire ?"
      ],
      "metadata": {
        "id": "gWyloYuLMsKx"
      },
      "execution_count": null,
      "outputs": []
    },
    {
      "cell_type": "markdown",
      "metadata": {
        "id": "0UGNtcOgsQgZ"
      },
      "source": [
        "### Study part: Generalized Policy Iteration"
      ]
    },
    {
      "cell_type": "markdown",
      "metadata": {
        "id": "l89FvxifsVib"
      },
      "source": [
        "Code the **generalized policy iteration** algorithm and study the influence of the number of evaluation steps between each improvement step"
      ]
    },
    {
      "cell_type": "code",
      "source": [],
      "metadata": {
        "id": "H2m4iGXtGeC-"
      },
      "execution_count": null,
      "outputs": []
    }
  ]
}